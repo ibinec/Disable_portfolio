{
 "cells": [
  {
   "cell_type": "markdown",
   "metadata": {},
   "source": [
    "# Loan Approval Prediction"
   ]
  },
  {
   "cell_type": "markdown",
   "metadata": {},
   "source": [
    "This generic problem was discovered on the Internet. I cannot remember the source, but it was at a point where I would search for any Machine Learning problems and attempt to solve. In this example, the objective was to predict whether individuals would be approved for a financial loan. The final output will have the actual value and prediction."
   ]
  },
  {
   "cell_type": "code",
   "execution_count": 1,
   "metadata": {
    "collapsed": true
   },
   "outputs": [],
   "source": [
    "import pandas as pd\n",
    "import numpy as np\n",
    "import matplotlib.pyplot as plt\n",
    "from sklearn.neighbors import KNeighborsClassifier\n",
    "from sklearn.linear_model import LogisticRegression\n",
    "from sklearn.tree import DecisionTreeClassifier\n",
    "from sklearn.discriminant_analysis import LinearDiscriminantAnalysis\n",
    "from sklearn.naive_bayes import GaussianNB\n",
    "from sklearn.model_selection import train_test_split\n",
    "from sklearn import preprocessing\n",
    "from sklearn.metrics import accuracy_score\n",
    "from sklearn.svm import SVC\n",
    "from sklearn import metrics\n",
    "from sklearn import model_selection"
   ]
  },
  {
   "cell_type": "markdown",
   "metadata": {},
   "source": [
    "Here is where the dataset is identified and loaded into a dataframe."
   ]
  },
  {
   "cell_type": "code",
   "execution_count": 2,
   "metadata": {
    "collapsed": true
   },
   "outputs": [],
   "source": [
    "dataset=r'C:\\Users\\claudius.ibine\\Desktop\\loan-dataset.csv'\n",
    "dataset=pd.read_csv(dataset,index_col=None)\n",
    "del dataset['Loan_ID']\n",
    "dataset['Income']=dataset['ApplicantIncome']+dataset['CoapplicantIncome']\n",
    "del dataset['ApplicantIncome']\n",
    "del dataset['CoapplicantIncome']"
   ]
  },
  {
   "cell_type": "markdown",
   "metadata": {},
   "source": [
    "Here is where I summarize the dataset."
   ]
  },
  {
   "cell_type": "code",
   "execution_count": 5,
   "metadata": {
    "collapsed": true
   },
   "outputs": [],
   "source": [
    "def aggregate():\n",
    "    print('The number of rows by columns:  {0}'.format(dataset.shape))\n",
    "    print(\"\\n\"+'The first 10 records are:')\n",
    "    print(dataset.head(5))\n",
    "    print(\"\\n\"+'The dataset datatypes are:')\n",
    "    print(dataset.dtypes)"
   ]
  },
  {
   "cell_type": "code",
   "execution_count": 6,
   "metadata": {},
   "outputs": [
    {
     "name": "stdout",
     "output_type": "stream",
     "text": [
      "The number of rows by columns:  (614, 11)\n",
      "\n",
      "The first 10 records are:\n",
      "  Gender Married Dependents     Education Self_Employed  LoanAmount  \\\n",
      "0   Male      No          0      Graduate            No         NaN   \n",
      "1   Male     Yes          1      Graduate            No       128.0   \n",
      "2   Male     Yes          0      Graduate           Yes        66.0   \n",
      "3   Male     Yes          0  Not Graduate            No       120.0   \n",
      "4   Male      No          0      Graduate            No       141.0   \n",
      "\n",
      "   Loan_Amount_Term  Credit_History Property_Area Loan_Status  Income  \n",
      "0             360.0             1.0         Urban           Y  5849.0  \n",
      "1             360.0             1.0         Rural           N  6091.0  \n",
      "2             360.0             1.0         Urban           Y  3000.0  \n",
      "3             360.0             1.0         Urban           Y  4941.0  \n",
      "4             360.0             1.0         Urban           Y  6000.0  \n",
      "\n",
      "The dataset datatypes are:\n",
      "Gender               object\n",
      "Married              object\n",
      "Dependents           object\n",
      "Education            object\n",
      "Self_Employed        object\n",
      "LoanAmount          float64\n",
      "Loan_Amount_Term    float64\n",
      "Credit_History      float64\n",
      "Property_Area        object\n",
      "Loan_Status          object\n",
      "Income              float64\n",
      "dtype: object\n"
     ]
    }
   ],
   "source": [
    "aggregate()"
   ]
  },
  {
   "cell_type": "markdown",
   "metadata": {},
   "source": [
    "Here is where I clean the dataset."
   ]
  },
  {
   "cell_type": "code",
   "execution_count": 7,
   "metadata": {
    "collapsed": true
   },
   "outputs": [],
   "source": [
    "def clean():\n",
    "    print(dataset.isnull().sum()) #check nulll values\n",
    "    print(dataset.describe()) #check for low values in min\n",
    "    print(dataset.head(10))"
   ]
  },
  {
   "cell_type": "code",
   "execution_count": 8,
   "metadata": {},
   "outputs": [
    {
     "name": "stdout",
     "output_type": "stream",
     "text": [
      "Gender              13\n",
      "Married              3\n",
      "Dependents          15\n",
      "Education            0\n",
      "Self_Employed       32\n",
      "LoanAmount          22\n",
      "Loan_Amount_Term    14\n",
      "Credit_History      50\n",
      "Property_Area        0\n",
      "Loan_Status          0\n",
      "Income               0\n",
      "dtype: int64\n",
      "       LoanAmount  Loan_Amount_Term  Credit_History        Income\n",
      "count  592.000000         600.00000      564.000000    614.000000\n",
      "mean   146.412162         342.00000        0.842199   7024.705081\n",
      "std     85.587325          65.12041        0.364878   6458.663872\n",
      "min      9.000000          12.00000        0.000000   1442.000000\n",
      "25%    100.000000         360.00000        1.000000   4166.000000\n",
      "50%    128.000000         360.00000        1.000000   5416.500000\n",
      "75%    168.000000         360.00000        1.000000   7521.750000\n",
      "max    700.000000         480.00000        1.000000  81000.000000\n",
      "  Gender Married Dependents     Education Self_Employed  LoanAmount  \\\n",
      "0   Male      No          0      Graduate            No         NaN   \n",
      "1   Male     Yes          1      Graduate            No       128.0   \n",
      "2   Male     Yes          0      Graduate           Yes        66.0   \n",
      "3   Male     Yes          0  Not Graduate            No       120.0   \n",
      "4   Male      No          0      Graduate            No       141.0   \n",
      "5   Male     Yes          2      Graduate           Yes       267.0   \n",
      "6   Male     Yes          0  Not Graduate            No        95.0   \n",
      "7   Male     Yes         3+      Graduate            No       158.0   \n",
      "8   Male     Yes          2      Graduate            No       168.0   \n",
      "9   Male     Yes          1      Graduate            No       349.0   \n",
      "\n",
      "   Loan_Amount_Term  Credit_History Property_Area Loan_Status   Income  \n",
      "0             360.0             1.0         Urban           Y   5849.0  \n",
      "1             360.0             1.0         Rural           N   6091.0  \n",
      "2             360.0             1.0         Urban           Y   3000.0  \n",
      "3             360.0             1.0         Urban           Y   4941.0  \n",
      "4             360.0             1.0         Urban           Y   6000.0  \n",
      "5             360.0             1.0         Urban           Y   9613.0  \n",
      "6             360.0             1.0         Urban           Y   3849.0  \n",
      "7             360.0             0.0     Semiurban           N   5540.0  \n",
      "8             360.0             1.0         Urban           Y   5532.0  \n",
      "9             360.0             1.0     Semiurban           N  23809.0  \n"
     ]
    }
   ],
   "source": [
    "clean()"
   ]
  },
  {
   "cell_type": "code",
   "execution_count": 9,
   "metadata": {
    "collapsed": true
   },
   "outputs": [],
   "source": [
    "dataset['Gender'].fillna(dataset['Gender'].mode()[0], inplace=True)\n",
    "dataset['Married'].fillna(dataset['Married'].mode()[0], inplace=True)\n",
    "dataset['Dependents'].fillna(dataset['Dependents'].mode()[0], inplace=True)\n",
    "dataset['Self_Employed'].fillna(dataset['Self_Employed'].mode()[0], inplace=True)\n",
    "dataset['LoanAmount'].fillna((dataset['LoanAmount'].mean()), inplace=True)\n",
    "dataset['Loan_Amount_Term'].fillna(dataset['Loan_Amount_Term'].mode()[0], inplace=True)\n",
    "dataset['Credit_History'].fillna(dataset['Credit_History'].mode()[0], inplace=True)\n",
    "\n",
    "dataset['Income']=pd.cut(dataset['Income'],[0, 40000, 60000, 80000, 100000, 200000,500000,1000000000,1000000000000000000], labels=['0-40000', '40000-60000', '60000-80000','80000-100000','100000-200000','200000-500000','500000-1000000000','1000000000+'])\n",
    "dataset['LoanAmount']=pd.cut(dataset['LoanAmount'],[0,200,400,600,800,1000,10000,100000,1000000000],labels=['0-200','200-400','400-600','600-800','800-1000','1000-10000','10000-100000','100000-1000000000'])"
   ]
  },
  {
   "cell_type": "code",
   "execution_count": 10,
   "metadata": {},
   "outputs": [
    {
     "name": "stdout",
     "output_type": "stream",
     "text": [
      "     Gender Married Dependents     Education Self_Employed LoanAmount  \\\n",
      "0      Male      No          0      Graduate            No      0-200   \n",
      "1      Male     Yes          1      Graduate            No      0-200   \n",
      "2      Male     Yes          0      Graduate           Yes      0-200   \n",
      "3      Male     Yes          0  Not Graduate            No      0-200   \n",
      "4      Male      No          0      Graduate            No      0-200   \n",
      "5      Male     Yes          2      Graduate           Yes    200-400   \n",
      "6      Male     Yes          0  Not Graduate            No      0-200   \n",
      "7      Male     Yes         3+      Graduate            No      0-200   \n",
      "8      Male     Yes          2      Graduate            No      0-200   \n",
      "9      Male     Yes          1      Graduate            No    200-400   \n",
      "10     Male     Yes          2      Graduate            No      0-200   \n",
      "11     Male     Yes          2      Graduate            No      0-200   \n",
      "12     Male     Yes          2      Graduate            No      0-200   \n",
      "13     Male      No          0      Graduate            No      0-200   \n",
      "14     Male     Yes          2      Graduate            No      0-200   \n",
      "15     Male      No          0      Graduate            No      0-200   \n",
      "16     Male      No          1  Not Graduate            No      0-200   \n",
      "17   Female      No          0      Graduate            No      0-200   \n",
      "18     Male     Yes          0  Not Graduate            No      0-200   \n",
      "19     Male     Yes          0      Graduate            No      0-200   \n",
      "20     Male     Yes          0  Not Graduate            No      0-200   \n",
      "21     Male     Yes          1      Graduate            No    200-400   \n",
      "22     Male     Yes          0  Not Graduate            No      0-200   \n",
      "23     Male     Yes          2  Not Graduate            No      0-200   \n",
      "24     Male     Yes          1      Graduate            No      0-200   \n",
      "25     Male     Yes          0      Graduate           Yes      0-200   \n",
      "26     Male     Yes          0      Graduate            No      0-200   \n",
      "27     Male     Yes          2  Not Graduate            No      0-200   \n",
      "28     Male      No          0  Not Graduate            No      0-200   \n",
      "29   Female      No          2      Graduate            No      0-200   \n",
      "..      ...     ...        ...           ...           ...        ...   \n",
      "584    Male     Yes          1      Graduate            No      0-200   \n",
      "585    Male     Yes          1      Graduate            No      0-200   \n",
      "586    Male     Yes          0      Graduate            No      0-200   \n",
      "587  Female      No          0  Not Graduate            No      0-200   \n",
      "588    Male      No          0      Graduate            No      0-200   \n",
      "589    Male     Yes          2      Graduate           Yes      0-200   \n",
      "590    Male     Yes          0      Graduate            No      0-200   \n",
      "591    Male     Yes          2      Graduate           Yes    200-400   \n",
      "592    Male      No         3+      Graduate           Yes    200-400   \n",
      "593    Male     Yes          0      Graduate            No      0-200   \n",
      "594    Male     Yes          0      Graduate           Yes    200-400   \n",
      "595    Male      No          0  Not Graduate            No      0-200   \n",
      "596    Male     Yes          2  Not Graduate           Yes      0-200   \n",
      "597    Male      No          0      Graduate            No      0-200   \n",
      "598    Male     Yes          0      Graduate           Yes      0-200   \n",
      "599    Male     Yes          2      Graduate            No      0-200   \n",
      "600  Female      No         3+      Graduate            No    200-400   \n",
      "601    Male     Yes          0  Not Graduate            No      0-200   \n",
      "602    Male     Yes         3+      Graduate            No      0-200   \n",
      "603    Male      No          0      Graduate            No      0-200   \n",
      "604  Female     Yes          1      Graduate            No    400-600   \n",
      "605    Male     Yes          0  Not Graduate            No      0-200   \n",
      "606    Male     Yes          1      Graduate            No      0-200   \n",
      "607    Male     Yes          2  Not Graduate            No      0-200   \n",
      "608    Male     Yes          0      Graduate            No      0-200   \n",
      "609  Female      No          0      Graduate            No      0-200   \n",
      "610    Male     Yes         3+      Graduate            No      0-200   \n",
      "611    Male     Yes          1      Graduate            No    200-400   \n",
      "612    Male     Yes          2      Graduate            No      0-200   \n",
      "613  Female      No          0      Graduate           Yes      0-200   \n",
      "\n",
      "     Loan_Amount_Term  Credit_History Property_Area Loan_Status       Income  \n",
      "0               360.0             1.0         Urban           Y      0-40000  \n",
      "1               360.0             1.0         Rural           N      0-40000  \n",
      "2               360.0             1.0         Urban           Y      0-40000  \n",
      "3               360.0             1.0         Urban           Y      0-40000  \n",
      "4               360.0             1.0         Urban           Y      0-40000  \n",
      "5               360.0             1.0         Urban           Y      0-40000  \n",
      "6               360.0             1.0         Urban           Y      0-40000  \n",
      "7               360.0             0.0     Semiurban           N      0-40000  \n",
      "8               360.0             1.0         Urban           Y      0-40000  \n",
      "9               360.0             1.0     Semiurban           N      0-40000  \n",
      "10              360.0             1.0         Urban           Y      0-40000  \n",
      "11              360.0             1.0         Urban           Y      0-40000  \n",
      "12              360.0             1.0         Urban           Y      0-40000  \n",
      "13              360.0             1.0         Rural           N      0-40000  \n",
      "14              120.0             1.0         Urban           Y      0-40000  \n",
      "15              360.0             1.0         Urban           Y      0-40000  \n",
      "16              240.0             1.0         Urban           Y      0-40000  \n",
      "17              360.0             0.0         Urban           N      0-40000  \n",
      "18              360.0             1.0         Rural           N      0-40000  \n",
      "19              360.0             1.0         Urban           Y      0-40000  \n",
      "20              360.0             0.0         Urban           N      0-40000  \n",
      "21              360.0             1.0         Urban           Y      0-40000  \n",
      "22              360.0             0.0     Semiurban           N      0-40000  \n",
      "23              360.0             0.0         Rural           N      0-40000  \n",
      "24              360.0             1.0     Semiurban           N      0-40000  \n",
      "25              360.0             1.0     Semiurban           Y      0-40000  \n",
      "26              360.0             1.0     Semiurban           Y      0-40000  \n",
      "27              360.0             1.0         Urban           Y      0-40000  \n",
      "28              360.0             1.0         Urban           N      0-40000  \n",
      "29              360.0             1.0     Semiurban           Y      0-40000  \n",
      "..                ...             ...           ...         ...          ...  \n",
      "584             360.0             0.0         Rural           N      0-40000  \n",
      "585              84.0             1.0         Rural           N      0-40000  \n",
      "586             360.0             1.0         Urban           Y      0-40000  \n",
      "587             360.0             1.0     Semiurban           Y      0-40000  \n",
      "588             360.0             1.0     Semiurban           Y      0-40000  \n",
      "589             360.0             0.0     Semiurban           N      0-40000  \n",
      "590             180.0             1.0     Semiurban           Y      0-40000  \n",
      "591             240.0             1.0     Semiurban           N      0-40000  \n",
      "592             360.0             1.0     Semiurban           Y      0-40000  \n",
      "593             180.0             1.0         Rural           Y      0-40000  \n",
      "594             360.0             1.0         Urban           Y      0-40000  \n",
      "595             360.0             1.0         Rural           Y      0-40000  \n",
      "596             360.0             1.0         Rural           N      0-40000  \n",
      "597             360.0             0.0     Semiurban           N      0-40000  \n",
      "598             360.0             1.0         Rural           Y      0-40000  \n",
      "599             360.0             1.0         Urban           Y      0-40000  \n",
      "600             180.0             1.0         Urban           N  40000-60000  \n",
      "601             360.0             1.0         Rural           Y      0-40000  \n",
      "602             360.0             1.0         Urban           Y      0-40000  \n",
      "603             360.0             1.0         Rural           Y      0-40000  \n",
      "604             360.0             1.0     Semiurban           Y      0-40000  \n",
      "605             180.0             1.0         Urban           N      0-40000  \n",
      "606             360.0             1.0     Semiurban           Y      0-40000  \n",
      "607             360.0             1.0         Rural           Y      0-40000  \n",
      "608             360.0             1.0         Rural           Y      0-40000  \n",
      "609             360.0             1.0         Rural           Y      0-40000  \n",
      "610             180.0             1.0         Rural           Y      0-40000  \n",
      "611             360.0             1.0         Urban           Y      0-40000  \n",
      "612             360.0             1.0         Urban           Y      0-40000  \n",
      "613             360.0             0.0     Semiurban           N      0-40000  \n",
      "\n",
      "[614 rows x 11 columns]\n"
     ]
    }
   ],
   "source": [
    "print(dataset)"
   ]
  },
  {
   "cell_type": "markdown",
   "metadata": {},
   "source": [
    "Here I will convert the string values to numericals for the machine learning model."
   ]
  },
  {
   "cell_type": "code",
   "execution_count": 11,
   "metadata": {
    "collapsed": true
   },
   "outputs": [],
   "source": [
    "def preprocess_dataset(df):\n",
    "    processed_df=df.copy()\n",
    "    le=preprocessing.LabelEncoder()\n",
    "    processed_df.Gender = le.fit_transform(processed_df.Gender)\n",
    "    processed_df.Married = le.fit_transform(processed_df.Married)\n",
    "    processed_df.Dependents = le.fit_transform(processed_df.Dependents)\n",
    "    processed_df.Education = le.fit_transform(processed_df.Education)\n",
    "    processed_df.Self_Employed = le.fit_transform(processed_df.Self_Employed)\n",
    "    processed_df.Loan_Amount_Term = le.fit_transform(processed_df.Loan_Amount_Term)\n",
    "    processed_df.Credit_History = le.fit_transform(processed_df.Credit_History)\n",
    "    processed_df.Loan_Status = le.fit_transform(processed_df.Loan_Status)\n",
    "    processed_df.Property_Area = le.fit_transform(processed_df.Property_Area)\n",
    "    processed_df.Income = le.fit_transform(processed_df.Income)\n",
    "    processed_df.LoanAmount = le.fit_transform(processed_df.LoanAmount)\n",
    "    return processed_df\n",
    "dataset=preprocess_dataset(dataset)"
   ]
  },
  {
   "cell_type": "code",
   "execution_count": 12,
   "metadata": {},
   "outputs": [
    {
     "name": "stdout",
     "output_type": "stream",
     "text": [
      "     Gender  Married  Dependents  Education  Self_Employed  LoanAmount  \\\n",
      "0         1        0           0          0              0           0   \n",
      "1         1        1           1          0              0           0   \n",
      "2         1        1           0          0              1           0   \n",
      "3         1        1           0          1              0           0   \n",
      "4         1        0           0          0              0           0   \n",
      "5         1        1           2          0              1           1   \n",
      "6         1        1           0          1              0           0   \n",
      "7         1        1           3          0              0           0   \n",
      "8         1        1           2          0              0           0   \n",
      "9         1        1           1          0              0           1   \n",
      "10        1        1           2          0              0           0   \n",
      "11        1        1           2          0              0           0   \n",
      "12        1        1           2          0              0           0   \n",
      "13        1        0           0          0              0           0   \n",
      "14        1        1           2          0              0           0   \n",
      "15        1        0           0          0              0           0   \n",
      "16        1        0           1          1              0           0   \n",
      "17        0        0           0          0              0           0   \n",
      "18        1        1           0          1              0           0   \n",
      "19        1        1           0          0              0           0   \n",
      "20        1        1           0          1              0           0   \n",
      "21        1        1           1          0              0           1   \n",
      "22        1        1           0          1              0           0   \n",
      "23        1        1           2          1              0           0   \n",
      "24        1        1           1          0              0           0   \n",
      "25        1        1           0          0              1           0   \n",
      "26        1        1           0          0              0           0   \n",
      "27        1        1           2          1              0           0   \n",
      "28        1        0           0          1              0           0   \n",
      "29        0        0           2          0              0           0   \n",
      "..      ...      ...         ...        ...            ...         ...   \n",
      "584       1        1           1          0              0           0   \n",
      "585       1        1           1          0              0           0   \n",
      "586       1        1           0          0              0           0   \n",
      "587       0        0           0          1              0           0   \n",
      "588       1        0           0          0              0           0   \n",
      "589       1        1           2          0              1           0   \n",
      "590       1        1           0          0              0           0   \n",
      "591       1        1           2          0              1           1   \n",
      "592       1        0           3          0              1           1   \n",
      "593       1        1           0          0              0           0   \n",
      "594       1        1           0          0              1           1   \n",
      "595       1        0           0          1              0           0   \n",
      "596       1        1           2          1              1           0   \n",
      "597       1        0           0          0              0           0   \n",
      "598       1        1           0          0              1           0   \n",
      "599       1        1           2          0              0           0   \n",
      "600       0        0           3          0              0           1   \n",
      "601       1        1           0          1              0           0   \n",
      "602       1        1           3          0              0           0   \n",
      "603       1        0           0          0              0           0   \n",
      "604       0        1           1          0              0           2   \n",
      "605       1        1           0          1              0           0   \n",
      "606       1        1           1          0              0           0   \n",
      "607       1        1           2          1              0           0   \n",
      "608       1        1           0          0              0           0   \n",
      "609       0        0           0          0              0           0   \n",
      "610       1        1           3          0              0           0   \n",
      "611       1        1           1          0              0           1   \n",
      "612       1        1           2          0              0           0   \n",
      "613       0        0           0          0              1           0   \n",
      "\n",
      "     Loan_Amount_Term  Credit_History  Property_Area  Loan_Status  Income  \n",
      "0                   8               1              2            1       0  \n",
      "1                   8               1              0            0       0  \n",
      "2                   8               1              2            1       0  \n",
      "3                   8               1              2            1       0  \n",
      "4                   8               1              2            1       0  \n",
      "5                   8               1              2            1       0  \n",
      "6                   8               1              2            1       0  \n",
      "7                   8               0              1            0       0  \n",
      "8                   8               1              2            1       0  \n",
      "9                   8               1              1            0       0  \n",
      "10                  8               1              2            1       0  \n",
      "11                  8               1              2            1       0  \n",
      "12                  8               1              2            1       0  \n",
      "13                  8               1              0            0       0  \n",
      "14                  4               1              2            1       0  \n",
      "15                  8               1              2            1       0  \n",
      "16                  6               1              2            1       0  \n",
      "17                  8               0              2            0       0  \n",
      "18                  8               1              0            0       0  \n",
      "19                  8               1              2            1       0  \n",
      "20                  8               0              2            0       0  \n",
      "21                  8               1              2            1       0  \n",
      "22                  8               0              1            0       0  \n",
      "23                  8               0              0            0       0  \n",
      "24                  8               1              1            0       0  \n",
      "25                  8               1              1            1       0  \n",
      "26                  8               1              1            1       0  \n",
      "27                  8               1              2            1       0  \n",
      "28                  8               1              2            0       0  \n",
      "29                  8               1              1            1       0  \n",
      "..                ...             ...            ...          ...     ...  \n",
      "584                 8               0              0            0       0  \n",
      "585                 3               1              0            0       0  \n",
      "586                 8               1              2            1       0  \n",
      "587                 8               1              1            1       0  \n",
      "588                 8               1              1            1       0  \n",
      "589                 8               0              1            0       0  \n",
      "590                 5               1              1            1       0  \n",
      "591                 6               1              1            0       0  \n",
      "592                 8               1              1            1       0  \n",
      "593                 5               1              0            1       0  \n",
      "594                 8               1              2            1       0  \n",
      "595                 8               1              0            1       0  \n",
      "596                 8               1              0            0       0  \n",
      "597                 8               0              1            0       0  \n",
      "598                 8               1              0            1       0  \n",
      "599                 8               1              2            1       0  \n",
      "600                 5               1              2            0       1  \n",
      "601                 8               1              0            1       0  \n",
      "602                 8               1              2            1       0  \n",
      "603                 8               1              0            1       0  \n",
      "604                 8               1              1            1       0  \n",
      "605                 5               1              2            0       0  \n",
      "606                 8               1              1            1       0  \n",
      "607                 8               1              0            1       0  \n",
      "608                 8               1              0            1       0  \n",
      "609                 8               1              0            1       0  \n",
      "610                 5               1              0            1       0  \n",
      "611                 8               1              2            1       0  \n",
      "612                 8               1              2            1       0  \n",
      "613                 8               0              1            0       0  \n",
      "\n",
      "[614 rows x 11 columns]\n"
     ]
    }
   ],
   "source": [
    "print(dataset)"
   ]
  },
  {
   "cell_type": "markdown",
   "metadata": {},
   "source": [
    "Here I will identify the feature and target column and split the dataset into training and testing"
   ]
  },
  {
   "cell_type": "code",
   "execution_count": 13,
   "metadata": {
    "collapsed": true
   },
   "outputs": [],
   "source": [
    "feature=['Gender','Married','Dependents','Education','Self_Employed','LoanAmount','Loan_Amount_Term','Credit_History','Property_Area','Income']\n",
    "target='Loan_Status'\n",
    "\n",
    "x=dataset[feature]\n",
    "y=dataset[target]\n",
    "seed=7\n",
    "x_train,x_test,y_train,y_test=train_test_split(x,y,test_size=0.4,random_state=4)"
   ]
  },
  {
   "cell_type": "markdown",
   "metadata": {},
   "source": [
    "Here I will determine the best machine learning model for this problem."
   ]
  },
  {
   "cell_type": "code",
   "execution_count": 14,
   "metadata": {
    "collapsed": true
   },
   "outputs": [],
   "source": [
    "def algorithms():\n",
    "    print('The predicted accuracy scores for the models are as follows:')\n",
    "    lr=LogisticRegression()\n",
    "    lr.fit(x_train,y_train)\n",
    "    lr_prediction=lr.predict(x_test)\n",
    "    print('LR: {0:4f}'.format(metrics.accuracy_score(y_test,lr_prediction)))\n",
    "\n",
    "    lda=LinearDiscriminantAnalysis()\n",
    "    lda.fit(x_train,y_train)\n",
    "    lda_prediction=lda.predict(x_test)\n",
    "    print('LDA: {0:4f}'.format(metrics.accuracy_score(y_test,lda_prediction)))\n",
    "\n",
    "    knn=KNeighborsClassifier()\n",
    "    knn.fit(x_train,y_train)\n",
    "    knn_prediction=knn.predict(x_test)\n",
    "    print('KNN: {0:4f}'.format(metrics.accuracy_score(y_test,knn_prediction)))\n",
    "\n",
    "    cart=DecisionTreeClassifier()\n",
    "    cart.fit(x_train,y_train)\n",
    "    cart_prediction=cart.predict(x_test)\n",
    "    print('CART: {0:4f}'.format(metrics.accuracy_score(y_test,cart_prediction)))\n",
    "\n",
    "    nb=GaussianNB()\n",
    "    nb.fit(x_train,y_train)\n",
    "    nb_prediction=nb.predict(x_test)\n",
    "    print('NB: {0:4f}'.format(metrics.accuracy_score(y_test,nb_prediction)))\n",
    "\n",
    "    svm=SVC()\n",
    "    svm.fit(x_train,y_train)\n",
    "    svm_prediction=svm.predict(x_test)\n",
    "    print('SVM: {0:4f}'.format(metrics.accuracy_score(y_test,svm_prediction)))"
   ]
  },
  {
   "cell_type": "code",
   "execution_count": 15,
   "metadata": {},
   "outputs": [
    {
     "name": "stdout",
     "output_type": "stream",
     "text": [
      "The predicted accuracy scores for the models are as follows:\n",
      "LR: 0.780488\n",
      "LDA: 0.780488\n",
      "KNN: 0.723577\n",
      "CART: 0.678862\n",
      "NB: 0.788618\n",
      "SVM: 0.780488\n"
     ]
    }
   ],
   "source": [
    "algorithms()"
   ]
  },
  {
   "cell_type": "markdown",
   "metadata": {},
   "source": [
    "Here I will fit the machine learning model."
   ]
  },
  {
   "cell_type": "code",
   "execution_count": 16,
   "metadata": {
    "collapsed": true
   },
   "outputs": [],
   "source": [
    "lr=LogisticRegression()\n",
    "lr.fit(x_train,y_train)\n",
    "lr_prediction=lr.predict(x_test)"
   ]
  },
  {
   "cell_type": "code",
   "execution_count": 17,
   "metadata": {
    "collapsed": true
   },
   "outputs": [],
   "source": [
    "features=x_test.reset_index()\n",
    "features=features[['Gender','Married','Dependents','Education','Self_Employed','LoanAmount','Loan_Amount_Term','Credit_History','Property_Area','Income']]\n",
    "actual=(list(y_test))\n",
    "prediction=(list(lr_prediction))\n",
    "features['actual']=pd.Series(actual)\n",
    "features['prediction']=pd.Series(prediction)"
   ]
  },
  {
   "cell_type": "code",
   "execution_count": 18,
   "metadata": {},
   "outputs": [
    {
     "name": "stdout",
     "output_type": "stream",
     "text": [
      "[1, 1, 0, 0, 1, 1, 0, 0, 0, 1, 1, 1, 1, 0, 0, 1, 0, 1, 1, 1, 1, 1, 1, 1, 0, 1, 0, 1, 1, 1, 0, 1, 1, 0, 0, 0, 1, 1, 0, 1, 1, 1, 1, 1, 0, 1, 1, 0, 1, 1, 1, 1, 1, 0, 1, 0, 0, 1, 1, 1, 0, 0, 1, 1, 1, 0, 1, 1, 0, 0, 1, 1, 0, 1, 1, 1, 1, 1, 1, 1, 1, 1, 1, 0, 1, 1, 1, 1, 1, 1, 1, 0, 0, 1, 0, 0, 1, 1, 1, 1, 1, 1, 1, 1, 1, 0, 0, 1, 1, 0, 0, 0, 1, 1, 0, 1, 1, 1, 1, 0, 1, 0, 0, 0, 1, 1, 1, 1, 1, 1, 1, 0, 1, 1, 0, 1, 1, 1, 0, 0, 1, 1, 0, 1, 0, 1, 1, 0, 1, 0, 0, 0, 0, 0, 1, 1, 1, 1, 0, 1, 0, 0, 1, 0, 0, 1, 0, 1, 1, 1, 1, 1, 1, 1, 1, 1, 1, 1, 1, 1, 1, 0, 1, 1, 0, 1, 0, 1, 1, 1, 1, 1, 1, 0, 1, 0, 1, 1, 1, 1, 0, 0, 1, 1, 1, 0, 1, 1, 1, 1, 1, 0, 1, 1, 1, 0, 1, 1, 1, 1, 0, 0, 1, 1, 1, 1, 1, 1, 0, 1, 1, 0, 0, 0, 0, 1, 0, 1, 0, 1, 1, 1, 1, 1, 0, 1]\n"
     ]
    }
   ],
   "source": [
    "print(actual)"
   ]
  },
  {
   "cell_type": "code",
   "execution_count": 19,
   "metadata": {},
   "outputs": [
    {
     "name": "stdout",
     "output_type": "stream",
     "text": [
      "[1, 1, 1, 1, 1, 1, 1, 0, 1, 1, 1, 1, 1, 1, 0, 1, 1, 1, 1, 1, 0, 1, 1, 1, 0, 1, 1, 1, 1, 1, 1, 1, 1, 1, 1, 1, 1, 1, 0, 1, 1, 1, 1, 1, 1, 1, 1, 1, 1, 1, 1, 1, 1, 1, 1, 0, 0, 1, 1, 1, 0, 1, 1, 1, 1, 0, 0, 1, 1, 0, 1, 1, 1, 1, 1, 1, 1, 1, 1, 1, 1, 1, 1, 0, 1, 1, 1, 1, 1, 1, 1, 1, 1, 1, 0, 1, 1, 1, 1, 1, 1, 1, 1, 1, 1, 1, 1, 1, 1, 0, 1, 0, 1, 1, 0, 1, 1, 1, 1, 0, 1, 0, 1, 1, 1, 1, 1, 1, 1, 1, 1, 1, 1, 1, 0, 1, 1, 1, 0, 1, 1, 1, 1, 1, 0, 1, 1, 1, 1, 1, 0, 0, 1, 0, 1, 1, 1, 1, 1, 1, 0, 1, 1, 1, 1, 1, 0, 1, 1, 1, 1, 1, 1, 1, 1, 1, 1, 1, 1, 1, 1, 0, 1, 1, 1, 1, 1, 1, 1, 1, 1, 1, 1, 0, 0, 0, 1, 1, 1, 1, 0, 1, 1, 1, 1, 1, 1, 1, 1, 1, 1, 1, 1, 1, 1, 1, 1, 1, 1, 1, 1, 1, 1, 1, 1, 1, 1, 1, 1, 1, 1, 1, 1, 1, 1, 1, 1, 1, 1, 1, 1, 1, 1, 1, 1, 1]\n"
     ]
    }
   ],
   "source": [
    "print(prediction)"
   ]
  },
  {
   "cell_type": "code",
   "execution_count": 20,
   "metadata": {
    "collapsed": true
   },
   "outputs": [],
   "source": [
    "final=features[['actual','prediction']]"
   ]
  },
  {
   "cell_type": "code",
   "execution_count": 21,
   "metadata": {},
   "outputs": [
    {
     "name": "stdout",
     "output_type": "stream",
     "text": [
      "     actual  prediction\n",
      "0         1           1\n",
      "1         1           1\n",
      "2         0           1\n",
      "3         0           1\n",
      "4         1           1\n",
      "5         1           1\n",
      "6         0           1\n",
      "7         0           0\n",
      "8         0           1\n",
      "9         1           1\n",
      "10        1           1\n",
      "11        1           1\n",
      "12        1           1\n",
      "13        0           1\n",
      "14        0           0\n",
      "15        1           1\n",
      "16        0           1\n",
      "17        1           1\n",
      "18        1           1\n",
      "19        1           1\n",
      "20        1           0\n",
      "21        1           1\n",
      "22        1           1\n",
      "23        1           1\n",
      "24        0           0\n",
      "25        1           1\n",
      "26        0           1\n",
      "27        1           1\n",
      "28        1           1\n",
      "29        1           1\n",
      "..      ...         ...\n",
      "216       1           1\n",
      "217       1           1\n",
      "218       1           1\n",
      "219       1           1\n",
      "220       0           1\n",
      "221       0           1\n",
      "222       1           1\n",
      "223       1           1\n",
      "224       1           1\n",
      "225       1           1\n",
      "226       1           1\n",
      "227       1           1\n",
      "228       0           1\n",
      "229       1           1\n",
      "230       1           1\n",
      "231       0           1\n",
      "232       0           1\n",
      "233       0           1\n",
      "234       0           1\n",
      "235       1           1\n",
      "236       0           1\n",
      "237       1           1\n",
      "238       0           1\n",
      "239       1           1\n",
      "240       1           1\n",
      "241       1           1\n",
      "242       1           1\n",
      "243       1           1\n",
      "244       0           1\n",
      "245       1           1\n",
      "\n",
      "[246 rows x 2 columns]\n"
     ]
    }
   ],
   "source": [
    "print(final)"
   ]
  },
  {
   "cell_type": "code",
   "execution_count": 23,
   "metadata": {},
   "outputs": [
    {
     "data": {
      "image/png": "[encoded data removed]",
      "text/plain": [
       "<matplotlib.figure.Figure at 0x8752588>"
      ]
     },
     "metadata": {},
     "output_type": "display_data"
    }
   ],
   "source": [
    "final.hist()\n",
    "plt.show()"
   ]
  }
 ],
 "metadata": {
  "kernelspec": {
   "display_name": "Python 3",
   "language": "python",
   "name": "python3"
  },
  "language_info": {
   "codemirror_mode": {
    "name": "ipython",
    "version": 3
   },
   "file_extension": ".py",
   "mimetype": "text/x-python",
   "name": "python",
   "nbconvert_exporter": "python",
   "pygments_lexer": "ipython3",
   "version": "3.6.3"
  }
 },
 "nbformat": 4,
 "nbformat_minor": 2
}
