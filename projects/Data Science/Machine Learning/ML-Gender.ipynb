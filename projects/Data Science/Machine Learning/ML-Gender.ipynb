{
 "cells": [
  {
   "cell_type": "markdown",
   "metadata": {},
   "source": [
    "# Machine Learning Gender Model"
   ]
  },
  {
   "cell_type": "markdown",
   "metadata": {},
   "source": [
    "This machine learning model was constructed to predict the gender of an individual based on input parameters into a function. This model uses a set of trained data to make a prediction. This model has limited data and so the prediction will not be as accurate."
   ]
  },
  {
   "cell_type": "code",
   "execution_count": 1,
   "metadata": {
    "collapsed": true
   },
   "outputs": [],
   "source": [
    "import pandas as pd\n",
    "import numpy as np\n",
    "from sklearn.preprocessing import LabelEncoder\n",
    "from sklearn.model_selection import train_test_split\n",
    "from sklearn.neighbors import KNeighborsClassifier\n",
    "from sklearn import tree\n",
    "from sklearn.linear_model import LogisticRegression\n",
    "from sklearn.naive_bayes import GaussianNB\n",
    "from sklearn.ensemble import RandomForestClassifier\n",
    "from sklearn.svm import SVC\n",
    "from sklearn.discriminant_analysis import LinearDiscriminantAnalysis\n",
    "import matplotlib.pyplot as plt\n",
    "import matplotlib.pyplot as plt\n",
    "import os\n",
    "import test"
   ]
  },
  {
   "cell_type": "code",
   "execution_count": 2,
   "metadata": {
    "collapsed": true
   },
   "outputs": [],
   "source": [
    "file=r'C:\\Users\\claudius.ibine\\Desktop\\gender.csv'\n",
    "df=pd.read_csv(file)"
   ]
  },
  {
   "cell_type": "code",
   "execution_count": 3,
   "metadata": {
    "collapsed": true
   },
   "outputs": [],
   "source": [
    "df['sex']=np.where(df['sex']=='woman','Female',(np.where(df['sex']=='man', 'Male', df['sex'])))\n",
    "del df['time']"
   ]
  },
  {
   "cell_type": "code",
   "execution_count": 4,
   "metadata": {
    "collapsed": true
   },
   "outputs": [],
   "source": [
    "df=df.rename(columns={'sex': 'gender','shoe_size': 'shoe-size'})"
   ]
  },
  {
   "cell_type": "code",
   "execution_count": 5,
   "metadata": {
    "collapsed": true
   },
   "outputs": [],
   "source": [
    "df.isnull().sum()\n",
    "df=df.dropna(how='all')"
   ]
  },
  {
   "cell_type": "code",
   "execution_count": 6,
   "metadata": {
    "collapsed": true
   },
   "outputs": [],
   "source": [
    "for label in ['gender']:\n",
    "    df[label]=LabelEncoder().fit_transform(df[label])"
   ]
  },
  {
   "cell_type": "code",
   "execution_count": 7,
   "metadata": {
    "collapsed": true
   },
   "outputs": [],
   "source": [
    "x=df[['height','shoe-size']]\n",
    "y=df['gender'].values.tolist()\n",
    "\n",
    "x_train,x_test,y_train,y_test=train_test_split(x,y,test_size=0.3)"
   ]
  },
  {
   "cell_type": "code",
   "execution_count": 8,
   "metadata": {
    "collapsed": true
   },
   "outputs": [],
   "source": [
    "scores={'KNN':0,'DTC':0,'LR':0,'GNB':0,'RF':0,'SVM':0,'LDA':0}\n",
    "\n",
    "knn=KNeighborsClassifier(n_neighbors=3)\n",
    "knn=knn.fit(x_train,y_train)\n",
    "knn_accuracy=knn.score(x_test,y_test)\n",
    "scores['KNN']=knn_accuracy\n",
    "\n",
    "dtc=tree.DecisionTreeClassifier()\n",
    "dtc=dtc.fit(x_train,y_train)\n",
    "dtc_accuracy=dtc.score(x_test,y_test)\n",
    "scores['DTC']=dtc_accuracy\n",
    "\n",
    "lr=LogisticRegression()\n",
    "lr=lr.fit(x_train,y_train)\n",
    "lr_accuracy=lr.score(x_test,y_test)\n",
    "scores['LR']=lr_accuracy\n",
    "\n",
    "gnb=GaussianNB()\n",
    "gnb=gnb.fit(x_train,y_train)\n",
    "gnb_accuracy=gnb.score(x_test,y_test)\n",
    "scores['GNB']=gnb_accuracy\n",
    "\n",
    "rf=RandomForestClassifier(n_estimators=1000)\n",
    "rf=rf.fit(x_train,y_train)\n",
    "rf_accuracy=rf.score(x_test,y_test)\n",
    "scores['RF']=rf_accuracy\n",
    "\n",
    "svm=SVC()\n",
    "svm=svm.fit(x_train,y_train)\n",
    "svm_accuracy=svm.score(x_test,y_test)\n",
    "scores['SVM']=svm_accuracy\n",
    "\n",
    "lda=LinearDiscriminantAnalysis()\n",
    "lda=lda.fit(x_train,y_train)\n",
    "lda_accuracy=lda.score(x_test,y_test)\n",
    "scores['LDA']=lda_accuracy"
   ]
  },
  {
   "cell_type": "code",
   "execution_count": 9,
   "metadata": {
    "collapsed": true
   },
   "outputs": [],
   "source": [
    "df=pd.DataFrame.from_dict(scores,orient='index')\n",
    "df=df.sort_values(by=[0], ascending=False)"
   ]
  },
  {
   "cell_type": "code",
   "execution_count": 10,
   "metadata": {
    "collapsed": true
   },
   "outputs": [],
   "source": [
    "lda=LinearDiscriminantAnalysis()\n",
    "lda=lda.fit(x_train,y_train)\n",
    "accuracy=lda.score(x_test,y_test)\n",
    "lda_prediction=lda.predict(x_test)"
   ]
  },
  {
   "cell_type": "code",
   "execution_count": 11,
   "metadata": {
    "collapsed": true
   },
   "outputs": [],
   "source": [
    "df=x_test.reset_index()\n",
    "df=df[['height','shoe-size']]\n",
    "actual=(list(y_test))\n",
    "prediction=(list(lda_prediction))\n",
    "df['actual']=pd.Series(actual)\n",
    "df['prediction']=pd.Series(prediction)"
   ]
  },
  {
   "cell_type": "code",
   "execution_count": 12,
   "metadata": {
    "collapsed": true
   },
   "outputs": [],
   "source": [
    "def prediction(weight,shoe):\n",
    "    list=weight,shoe\n",
    "    list=[int(i) for i in list]\n",
    "    return lda.predict([list])"
   ]
  }
 ],
 "metadata": {
  "kernelspec": {
   "display_name": "Python 3",
   "language": "python",
   "name": "python3"
  },
  "language_info": {
   "codemirror_mode": {
    "name": "ipython",
    "version": 3
   },
   "file_extension": ".py",
   "mimetype": "text/x-python",
   "name": "python",
   "nbconvert_exporter": "python",
   "pygments_lexer": "ipython3",
   "version": "3.6.3"
  }
 },
 "nbformat": 4,
 "nbformat_minor": 2
}
