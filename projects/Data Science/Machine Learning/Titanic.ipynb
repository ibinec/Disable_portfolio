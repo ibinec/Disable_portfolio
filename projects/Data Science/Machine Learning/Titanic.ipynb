{
 "cells": [
  {
   "cell_type": "markdown",
   "metadata": {},
   "source": [
    "# Titanic Survival Prediction"
   ]
  },
  {
   "cell_type": "markdown",
   "metadata": {},
   "source": [
    "In this Kaggle machine learning problem, we were tasked to identify survival rates based on features from the titanic accident. Please keep in mind, this was my first data science project and there are opportunities for improvement. Nonetheless, keeping this project will demonstrate the considerable improvement in my data science capabilities. "
   ]
  },
  {
   "cell_type": "code",
   "execution_count": 44,
   "metadata": {
    "collapsed": true
   },
   "outputs": [],
   "source": [
    "import pandas as pd\n",
    "import numpy as np\n",
    "import matplotlib.pyplot as plt\n",
    "from sklearn.neighbors import KNeighborsClassifier\n",
    "from sklearn.linear_model import LogisticRegression\n",
    "from sklearn.tree import DecisionTreeClassifier\n",
    "from sklearn.discriminant_analysis import LinearDiscriminantAnalysis\n",
    "from sklearn.naive_bayes import GaussianNB\n",
    "from sklearn.model_selection import train_test_split\n",
    "from sklearn import preprocessing\n",
    "from sklearn.metrics import accuracy_score\n",
    "from sklearn.svm import SVC\n",
    "from sklearn import metrics\n",
    "from sklearn import model_selection"
   ]
  },
  {
   "cell_type": "markdown",
   "metadata": {},
   "source": [
    "Here is where the dataset is identified and loaded into a dataframe."
   ]
  },
  {
   "cell_type": "code",
   "execution_count": 45,
   "metadata": {
    "collapsed": true
   },
   "outputs": [],
   "source": [
    "dataset=pd.read_csv(r'C:\\Users\\claudius.ibine\\Desktop\\titanic-dataset.csv')\n",
    "dataset=dataset[['Pclass','Sex','Age','Embarked','Survived']]"
   ]
  },
  {
   "cell_type": "markdown",
   "metadata": {},
   "source": [
    "Here is where I summarized the dataset."
   ]
  },
  {
   "cell_type": "code",
   "execution_count": 46,
   "metadata": {
    "collapsed": true
   },
   "outputs": [],
   "source": [
    "def aggregrate():\n",
    "    print('The number of rows by columns:  {0}'.format(dataset.shape))\n",
    "    print(\"\\n\"+'The first 10 records are:')\n",
    "    print(dataset.head(5))\n",
    "    print(\"\\n\"+'The dataset datatypes are:')\n",
    "    print(dataset.dtypes)"
   ]
  },
  {
   "cell_type": "code",
   "execution_count": 47,
   "metadata": {},
   "outputs": [
    {
     "name": "stdout",
     "output_type": "stream",
     "text": [
      "The number of rows by columns:  (891, 5)\n",
      "\n",
      "The first 10 records are:\n",
      "   Pclass     Sex   Age Embarked  Survived\n",
      "0       3    male  22.0        S         0\n",
      "1       1  female  38.0        C         1\n",
      "2       3  female  26.0        S         1\n",
      "3       1  female  35.0        S         1\n",
      "4       3    male  35.0        S         0\n",
      "\n",
      "The dataset datatypes are:\n",
      "Pclass        int64\n",
      "Sex          object\n",
      "Age         float64\n",
      "Embarked     object\n",
      "Survived      int64\n",
      "dtype: object\n"
     ]
    }
   ],
   "source": [
    "aggregrate()"
   ]
  },
  {
   "cell_type": "markdown",
   "metadata": {},
   "source": [
    "Here is where I cleaned the dataset."
   ]
  },
  {
   "cell_type": "code",
   "execution_count": 48,
   "metadata": {
    "collapsed": true
   },
   "outputs": [],
   "source": [
    "def clean():\n",
    "    print(train.isnull().sum()) #check nulll values\n",
    "    print(train.describe()) #check for low values in min"
   ]
  },
  {
   "cell_type": "code",
   "execution_count": 49,
   "metadata": {},
   "outputs": [
    {
     "name": "stdout",
     "output_type": "stream",
     "text": [
      "Pclass        0\n",
      "Sex           0\n",
      "Age         177\n",
      "Embarked      2\n",
      "Survived      0\n",
      "dtype: int64\n",
      "           Pclass         Age    Survived\n",
      "count  891.000000  714.000000  891.000000\n",
      "mean     2.308642   29.699118    0.383838\n",
      "std      0.836071   14.526497    0.486592\n",
      "min      1.000000    0.420000    0.000000\n",
      "25%      2.000000   20.125000    0.000000\n",
      "50%      3.000000   28.000000    0.000000\n",
      "75%      3.000000   38.000000    1.000000\n",
      "max      3.000000   80.000000    1.000000\n"
     ]
    }
   ],
   "source": [
    "clean()"
   ]
  },
  {
   "cell_type": "code",
   "execution_count": 50,
   "metadata": {
    "collapsed": true
   },
   "outputs": [],
   "source": [
    "dataset['Age']=dataset['Age'].fillna(dataset['Age'].mean())\n",
    "dataset['Embarked'].fillna(dataset['Embarked'].mode()[0], inplace=True)"
   ]
  },
  {
   "cell_type": "code",
   "execution_count": 51,
   "metadata": {},
   "outputs": [
    {
     "name": "stdout",
     "output_type": "stream",
     "text": [
      "    Pclass     Sex        Age Embarked  Survived\n",
      "0        3    male  22.000000        S         0\n",
      "1        1  female  38.000000        C         1\n",
      "2        3  female  26.000000        S         1\n",
      "3        1  female  35.000000        S         1\n",
      "4        3    male  35.000000        S         0\n",
      "5        3    male  29.699118        Q         0\n",
      "6        1    male  54.000000        S         0\n",
      "7        3    male   2.000000        S         0\n",
      "8        3  female  27.000000        S         1\n",
      "9        2  female  14.000000        C         1\n",
      "10       3  female   4.000000        S         1\n",
      "11       1  female  58.000000        S         1\n",
      "12       3    male  20.000000        S         0\n",
      "13       3    male  39.000000        S         0\n",
      "14       3  female  14.000000        S         0\n",
      "15       2  female  55.000000        S         1\n",
      "16       3    male   2.000000        Q         0\n",
      "17       2    male  29.699118        S         1\n",
      "18       3  female  31.000000        S         0\n",
      "19       3  female  29.699118        C         1\n",
      "20       2    male  35.000000        S         0\n"
     ]
    }
   ],
   "source": [
    "print(dataset.head(21))"
   ]
  },
  {
   "cell_type": "markdown",
   "metadata": {},
   "source": [
    "Here I will convert the string values to numericals for the machine learning model."
   ]
  },
  {
   "cell_type": "code",
   "execution_count": 52,
   "metadata": {
    "collapsed": true
   },
   "outputs": [],
   "source": [
    "def preprocess_dataset(df):\n",
    "    processed_df=df.copy()\n",
    "    le=preprocessing.LabelEncoder()\n",
    "    processed_df.Sex=le.fit_transform(processed_df.Sex)\n",
    "    processed_df.Embarked = le.fit_transform(processed_df.Embarked)\n",
    "    return processed_df\n",
    "dataset=preprocess_dataset(dataset)"
   ]
  },
  {
   "cell_type": "markdown",
   "metadata": {},
   "source": [
    "Here I will rename a few columns."
   ]
  },
  {
   "cell_type": "code",
   "execution_count": 53,
   "metadata": {
    "collapsed": true
   },
   "outputs": [],
   "source": [
    "dataset=dataset.rename(columns={'Pclass': 'pclass'})\n",
    "dataset=dataset.rename(columns={'Sex': 'gender'})\n",
    "dataset=dataset.rename(columns={'Age': 'age'})\n",
    "dataset=dataset.rename(columns={'Embarked': 'embarked'})\n",
    "dataset=dataset.rename(columns={'Survived': 'survived'})"
   ]
  },
  {
   "cell_type": "markdown",
   "metadata": {},
   "source": [
    "Here I will identify the feature and target column and split the dataset into training and testing"
   ]
  },
  {
   "cell_type": "code",
   "execution_count": 54,
   "metadata": {
    "collapsed": true
   },
   "outputs": [],
   "source": [
    "feature=['pclass','gender','age','embarked']\n",
    "target='survived'\n",
    "\n",
    "x=dataset[feature]\n",
    "y=dataset[target]\n",
    "seed=7\n",
    "x_train,x_test,y_train,y_test=train_test_split(x,y,test_size=0.4,random_state=4)"
   ]
  },
  {
   "cell_type": "code",
   "execution_count": 55,
   "metadata": {
    "collapsed": true
   },
   "outputs": [],
   "source": [
    "def algorithms():\n",
    "    print('The predicted accuracy scores for the models are as follows:')\n",
    "    lr=LogisticRegression()\n",
    "    lr.fit(x_train,y_train)\n",
    "    lr_prediction=lr.predict(x_test)\n",
    "    print('LR: {0:4f}'.format(metrics.accuracy_score(y_test,lr_prediction)))\n",
    "\n",
    "    lda=LinearDiscriminantAnalysis()\n",
    "    lda.fit(x_train,y_train)\n",
    "    lda_prediction=lda.predict(x_test)\n",
    "    print('LDA: {0:4f}'.format(metrics.accuracy_score(y_test,lda_prediction)))\n",
    "\n",
    "    knn=KNeighborsClassifier()\n",
    "    knn.fit(x_train,y_train)\n",
    "    knn_prediction=knn.predict(x_test)\n",
    "    print('KNN: {0:4f}'.format(metrics.accuracy_score(y_test,knn_prediction)))\n",
    "\n",
    "    cart=DecisionTreeClassifier()\n",
    "    cart.fit(x_train,y_train)\n",
    "    cart_prediction=cart.predict(x_test)\n",
    "    print('CART: {0:4f}'.format(metrics.accuracy_score(y_test,cart_prediction)))\n",
    "\n",
    "    nb=GaussianNB()\n",
    "    nb.fit(x_train,y_train)\n",
    "    nb_prediction=nb.predict(x_test)\n",
    "    print('NB: {0:4f}'.format(metrics.accuracy_score(y_test,nb_prediction)))\n",
    "\n",
    "    svm=SVC()\n",
    "    svm.fit(x_train,y_train)\n",
    "    svm_prediction=svm.predict(x_test)\n",
    "    print('SVM: {0:4f}'.format(metrics.accuracy_score(y_test,svm_prediction)))"
   ]
  },
  {
   "cell_type": "code",
   "execution_count": 56,
   "metadata": {},
   "outputs": [
    {
     "name": "stdout",
     "output_type": "stream",
     "text": [
      "The predicted accuracy scores for the models are as follows:\n",
      "LR: 0.806723\n",
      "LDA: 0.803922\n",
      "KNN: 0.764706\n",
      "CART: 0.815126\n",
      "NB: 0.795518\n",
      "SVM: 0.801120\n"
     ]
    }
   ],
   "source": [
    "algorithms()"
   ]
  },
  {
   "cell_type": "markdown",
   "metadata": {},
   "source": [
    "Here I will fit the machine learning model."
   ]
  },
  {
   "cell_type": "code",
   "execution_count": 57,
   "metadata": {
    "collapsed": true
   },
   "outputs": [],
   "source": [
    "lr=LogisticRegression()\n",
    "lr.fit(x_train,y_train)\n",
    "lr_prediction=lr.predict(x_test)"
   ]
  },
  {
   "cell_type": "code",
   "execution_count": 58,
   "metadata": {
    "collapsed": true
   },
   "outputs": [],
   "source": [
    "features=x_test.reset_index()\n",
    "features=features[['pclass','gender','age','embarked']]\n",
    "actual=(list(y_test))\n",
    "prediction=(list(lr_prediction))\n",
    "features['actual']=pd.Series(actual)\n",
    "features['prediction']=pd.Series(prediction)\n",
    "output=features"
   ]
  },
  {
   "cell_type": "code",
   "execution_count": 59,
   "metadata": {},
   "outputs": [
    {
     "name": "stdout",
     "output_type": "stream",
     "text": [
      "   pclass  gender        age  embarked  actual  prediction\n",
      "0       3       1  19.000000         2       0           0\n",
      "1       3       1  20.000000         2       0           0\n",
      "2       3       0  29.699118         1       1           1\n",
      "3       1       0  44.000000         0       1           1\n",
      "4       3       1  10.000000         2       0           0\n",
      "5       1       1  29.699118         2       1           0\n",
      "6       2       0   6.000000         2       1           1\n",
      "7       3       0  29.699118         1       1           1\n",
      "8       1       1  51.000000         0       0           0\n",
      "9       2       1  52.000000         2       0           0\n"
     ]
    }
   ],
   "source": [
    "print(output.head(10))"
   ]
  },
  {
   "cell_type": "code",
   "execution_count": 60,
   "metadata": {},
   "outputs": [
    {
     "name": "stdout",
     "output_type": "stream",
     "text": [
      "     actual  prediction\n",
      "0         0           0\n",
      "1         0           0\n",
      "2         1           1\n",
      "3         1           1\n",
      "4         0           0\n",
      "5         1           0\n",
      "6         1           1\n",
      "7         1           1\n",
      "8         0           0\n",
      "9         0           0\n",
      "10        0           0\n",
      "11        0           0\n",
      "12        1           1\n",
      "13        0           0\n",
      "14        1           1\n",
      "15        0           0\n",
      "16        0           0\n",
      "17        0           1\n",
      "18        0           0\n",
      "19        1           1\n",
      "20        1           0\n",
      "21        0           0\n",
      "22        0           0\n",
      "23        0           0\n",
      "24        1           1\n",
      "25        0           1\n",
      "26        1           1\n",
      "27        1           1\n",
      "28        0           0\n",
      "29        0           0\n",
      "..      ...         ...\n",
      "327       1           1\n",
      "328       1           1\n",
      "329       1           1\n",
      "330       1           1\n",
      "331       0           0\n",
      "332       0           1\n",
      "333       1           1\n",
      "334       0           0\n",
      "335       0           0\n",
      "336       0           0\n",
      "337       0           0\n",
      "338       0           0\n",
      "339       0           0\n",
      "340       0           0\n",
      "341       1           1\n",
      "342       1           1\n",
      "343       0           0\n",
      "344       0           0\n",
      "345       0           1\n",
      "346       0           0\n",
      "347       1           1\n",
      "348       0           0\n",
      "349       0           0\n",
      "350       0           0\n",
      "351       0           0\n",
      "352       1           1\n",
      "353       0           1\n",
      "354       0           0\n",
      "355       1           0\n",
      "356       0           1\n",
      "\n",
      "[357 rows x 2 columns]\n"
     ]
    }
   ],
   "source": [
    "print(output[['actual','prediction']])"
   ]
  },
  {
   "cell_type": "code",
   "execution_count": 61,
   "metadata": {
    "collapsed": true
   },
   "outputs": [],
   "source": [
    "output=output[['actual','prediction']]"
   ]
  },
  {
   "cell_type": "code",
   "execution_count": 65,
   "metadata": {},
   "outputs": [
    {
     "data": {
      "image/png": "[encoded data removed]",
      "text/plain": [
       "<matplotlib.figure.Figure at 0x105ebfd0>"
      ]
     },
     "metadata": {},
     "output_type": "display_data"
    }
   ],
   "source": [
    "output.hist()\n",
    "plt.show()"
   ]
  }
 ],
 "metadata": {
  "kernelspec": {
   "display_name": "Python 3",
   "language": "python",
   "name": "python3"
  },
  "language_info": {
   "codemirror_mode": {
    "name": "ipython",
    "version": 3
   },
   "file_extension": ".py",
   "mimetype": "text/x-python",
   "name": "python",
   "nbconvert_exporter": "python",
   "pygments_lexer": "ipython3",
   "version": "3.6.3"
  }
 },
 "nbformat": 4,
 "nbformat_minor": 2
}
