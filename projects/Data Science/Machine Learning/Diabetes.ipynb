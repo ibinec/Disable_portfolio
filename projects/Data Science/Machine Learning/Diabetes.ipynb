{
 "cells": [
  {
   "cell_type": "markdown",
   "metadata": {},
   "source": [
    "# Diabetes Prediction"
   ]
  },
  {
   "cell_type": "markdown",
   "metadata": {},
   "source": [
    "This generic problem was discovered on the Internet. I cannot remember the source, but it was at a point where I would search for any Machine Learning problems and attempt to solve. In this example, the objective was to predict whether individuals have diabetes based on various features. The final output will have the actual value and prediction."
   ]
  },
  {
   "cell_type": "code",
   "execution_count": 3,
   "metadata": {
    "collapsed": true
   },
   "outputs": [],
   "source": [
    "import pandas as pd\n",
    "import numpy as np\n",
    "import matplotlib.pyplot as plt\n",
    "from sklearn.neighbors import KNeighborsClassifier\n",
    "from sklearn.linear_model import LogisticRegression\n",
    "from sklearn.tree import DecisionTreeClassifier\n",
    "from sklearn.discriminant_analysis import LinearDiscriminantAnalysis\n",
    "from sklearn.naive_bayes import GaussianNB\n",
    "from sklearn.model_selection import train_test_split\n",
    "from sklearn import preprocessing\n",
    "from sklearn.metrics import accuracy_score\n",
    "from sklearn.svm import SVC\n",
    "from sklearn import metrics\n",
    "from sklearn import model_selection"
   ]
  },
  {
   "cell_type": "markdown",
   "metadata": {},
   "source": [
    "Here is where the dataset is identified and loaded into a dataframe."
   ]
  },
  {
   "cell_type": "code",
   "execution_count": 4,
   "metadata": {
    "collapsed": true
   },
   "outputs": [],
   "source": [
    "dataset=r'C:\\Users\\claudius.ibine\\Desktop\\diabetes.csv'\n",
    "dataset=pd.read_csv(dataset,index_col=None)\n",
    "dataset=dataset[['num_preg','glucose_conc','diastolic_bp','thickness','insulin','bmi','diab_pred','age','diabetes']]"
   ]
  },
  {
   "cell_type": "markdown",
   "metadata": {},
   "source": [
    "Here is where I summarize the dataset."
   ]
  },
  {
   "cell_type": "code",
   "execution_count": 5,
   "metadata": {
    "collapsed": true
   },
   "outputs": [],
   "source": [
    "def aggregate():\n",
    "    print('The number of rows by columns:  {0}'.format(dataset.shape))\n",
    "    print(\"\\n\"+'The first 10 records are:')\n",
    "    print(dataset.head(10))\n",
    "    print(\"\\n\"+'The dataset datatypes are:')\n",
    "    print(dataset.dtypes)"
   ]
  },
  {
   "cell_type": "code",
   "execution_count": 6,
   "metadata": {},
   "outputs": [
    {
     "name": "stdout",
     "output_type": "stream",
     "text": [
      "The number of rows by columns:  (768, 9)\n",
      "\n",
      "The first 10 records are:\n",
      "   num_preg  glucose_conc  diastolic_bp  thickness  insulin   bmi  diab_pred  \\\n",
      "0         6           148            72         35        0  33.6      0.627   \n",
      "1         1            85            66         29        0  26.6      0.351   \n",
      "2         8           183            64          0        0  23.3      0.672   \n",
      "3         1            89            66         23       94  28.1      0.167   \n",
      "4         0           137            40         35      168  43.1      2.288   \n",
      "5         5           116            74          0        0  25.6      0.201   \n",
      "6         3            78            50         32       88  31.0      0.248   \n",
      "7        10           115             0          0        0  35.3      0.134   \n",
      "8         2           197            70         45      543  30.5      0.158   \n",
      "9         8           125            96          0        0   0.0      0.232   \n",
      "\n",
      "   age  diabetes  \n",
      "0   50      True  \n",
      "1   31     False  \n",
      "2   32      True  \n",
      "3   21     False  \n",
      "4   33      True  \n",
      "5   30     False  \n",
      "6   26      True  \n",
      "7   29     False  \n",
      "8   53      True  \n",
      "9   54      True  \n",
      "\n",
      "The dataset datatypes are:\n",
      "num_preg          int64\n",
      "glucose_conc      int64\n",
      "diastolic_bp      int64\n",
      "thickness         int64\n",
      "insulin           int64\n",
      "bmi             float64\n",
      "diab_pred       float64\n",
      "age               int64\n",
      "diabetes           bool\n",
      "dtype: object\n"
     ]
    }
   ],
   "source": [
    "aggregate()"
   ]
  },
  {
   "cell_type": "markdown",
   "metadata": {},
   "source": [
    "Here is where I clean the dataset."
   ]
  },
  {
   "cell_type": "code",
   "execution_count": 7,
   "metadata": {
    "collapsed": true
   },
   "outputs": [],
   "source": [
    "def clean():\n",
    "    print(dataset.isnull().sum()) #check nulll values\n",
    "    print(dataset.describe()) #check for low values in min"
   ]
  },
  {
   "cell_type": "code",
   "execution_count": 8,
   "metadata": {},
   "outputs": [
    {
     "name": "stdout",
     "output_type": "stream",
     "text": [
      "num_preg        0\n",
      "glucose_conc    0\n",
      "diastolic_bp    0\n",
      "thickness       0\n",
      "insulin         0\n",
      "bmi             0\n",
      "diab_pred       0\n",
      "age             0\n",
      "diabetes        0\n",
      "dtype: int64\n",
      "         num_preg  glucose_conc  diastolic_bp   thickness     insulin  \\\n",
      "count  768.000000    768.000000    768.000000  768.000000  768.000000   \n",
      "mean     3.845052    120.894531     69.105469   20.536458   79.799479   \n",
      "std      3.369578     31.972618     19.355807   15.952218  115.244002   \n",
      "min      0.000000      0.000000      0.000000    0.000000    0.000000   \n",
      "25%      1.000000     99.000000     62.000000    0.000000    0.000000   \n",
      "50%      3.000000    117.000000     72.000000   23.000000   30.500000   \n",
      "75%      6.000000    140.250000     80.000000   32.000000  127.250000   \n",
      "max     17.000000    199.000000    122.000000   99.000000  846.000000   \n",
      "\n",
      "              bmi   diab_pred         age  \n",
      "count  768.000000  768.000000  768.000000  \n",
      "mean    31.992578    0.471876   33.240885  \n",
      "std      7.884160    0.331329   11.760232  \n",
      "min      0.000000    0.078000   21.000000  \n",
      "25%     27.300000    0.243750   24.000000  \n",
      "50%     32.000000    0.372500   29.000000  \n",
      "75%     36.600000    0.626250   41.000000  \n",
      "max     67.100000    2.420000   81.000000  \n"
     ]
    }
   ],
   "source": [
    "clean()"
   ]
  },
  {
   "cell_type": "code",
   "execution_count": 9,
   "metadata": {
    "collapsed": true
   },
   "outputs": [],
   "source": [
    "dataset['num_preg']=dataset['num_preg'].replace(0,dataset['num_preg'].mean())\n",
    "dataset['glucose_conc']=dataset['glucose_conc'].replace(0,dataset['glucose_conc'].mean())\n",
    "dataset['diastolic_bp']=dataset['diastolic_bp'].replace(0,dataset['diastolic_bp'].mean())\n",
    "dataset['thickness']=dataset['thickness'].replace(0,dataset['thickness'].mean())\n",
    "dataset['insulin']=dataset['insulin'].replace(0,dataset['insulin'].mean())\n",
    "dataset['bmi']=dataset['bmi'].replace(0,dataset['bmi'].mean())"
   ]
  },
  {
   "cell_type": "code",
   "execution_count": 10,
   "metadata": {},
   "outputs": [
    {
     "name": "stdout",
     "output_type": "stream",
     "text": [
      "     num_preg  glucose_conc  diastolic_bp  thickness     insulin        bmi  \\\n",
      "0    6.000000         148.0     72.000000  35.000000   79.799479  33.600000   \n",
      "1    1.000000          85.0     66.000000  29.000000   79.799479  26.600000   \n",
      "2    8.000000         183.0     64.000000  20.536458   79.799479  23.300000   \n",
      "3    1.000000          89.0     66.000000  23.000000   94.000000  28.100000   \n",
      "4    3.845052         137.0     40.000000  35.000000  168.000000  43.100000   \n",
      "5    5.000000         116.0     74.000000  20.536458   79.799479  25.600000   \n",
      "6    3.000000          78.0     50.000000  32.000000   88.000000  31.000000   \n",
      "7   10.000000         115.0     69.105469  20.536458   79.799479  35.300000   \n",
      "8    2.000000         197.0     70.000000  45.000000  543.000000  30.500000   \n",
      "9    8.000000         125.0     96.000000  20.536458   79.799479  31.992578   \n",
      "10   4.000000         110.0     92.000000  20.536458   79.799479  37.600000   \n",
      "\n",
      "    diab_pred  age  diabetes  \n",
      "0       0.627   50      True  \n",
      "1       0.351   31     False  \n",
      "2       0.672   32      True  \n",
      "3       0.167   21     False  \n",
      "4       2.288   33      True  \n",
      "5       0.201   30     False  \n",
      "6       0.248   26      True  \n",
      "7       0.134   29     False  \n",
      "8       0.158   53      True  \n",
      "9       0.232   54      True  \n",
      "10      0.191   30     False  \n"
     ]
    }
   ],
   "source": [
    "print(dataset.head(11))"
   ]
  },
  {
   "cell_type": "markdown",
   "metadata": {},
   "source": [
    "\n",
    "\n",
    "\n",
    "\n",
    "Here I will convert the string values to numericals for the machine learning model.\n"
   ]
  },
  {
   "cell_type": "code",
   "execution_count": 11,
   "metadata": {
    "collapsed": true
   },
   "outputs": [],
   "source": [
    "def preprocess_dataset(df):\n",
    "    processed_df=df.copy()\n",
    "    le=preprocessing.LabelEncoder()\n",
    "    processed_df.diabetes=le.fit_transform(processed_df.diabetes)\n",
    "    return processed_df\n",
    "dataset=preprocess_dataset(dataset)"
   ]
  },
  {
   "cell_type": "code",
   "execution_count": 12,
   "metadata": {},
   "outputs": [
    {
     "name": "stdout",
     "output_type": "stream",
     "text": [
      "     num_preg  glucose_conc  diastolic_bp  thickness     insulin        bmi  \\\n",
      "0    6.000000         148.0     72.000000  35.000000   79.799479  33.600000   \n",
      "1    1.000000          85.0     66.000000  29.000000   79.799479  26.600000   \n",
      "2    8.000000         183.0     64.000000  20.536458   79.799479  23.300000   \n",
      "3    1.000000          89.0     66.000000  23.000000   94.000000  28.100000   \n",
      "4    3.845052         137.0     40.000000  35.000000  168.000000  43.100000   \n",
      "5    5.000000         116.0     74.000000  20.536458   79.799479  25.600000   \n",
      "6    3.000000          78.0     50.000000  32.000000   88.000000  31.000000   \n",
      "7   10.000000         115.0     69.105469  20.536458   79.799479  35.300000   \n",
      "8    2.000000         197.0     70.000000  45.000000  543.000000  30.500000   \n",
      "9    8.000000         125.0     96.000000  20.536458   79.799479  31.992578   \n",
      "10   4.000000         110.0     92.000000  20.536458   79.799479  37.600000   \n",
      "\n",
      "    diab_pred  age  diabetes  \n",
      "0       0.627   50         1  \n",
      "1       0.351   31         0  \n",
      "2       0.672   32         1  \n",
      "3       0.167   21         0  \n",
      "4       2.288   33         1  \n",
      "5       0.201   30         0  \n",
      "6       0.248   26         1  \n",
      "7       0.134   29         0  \n",
      "8       0.158   53         1  \n",
      "9       0.232   54         1  \n",
      "10      0.191   30         0  \n"
     ]
    }
   ],
   "source": [
    "print(dataset.head(11))"
   ]
  },
  {
   "cell_type": "markdown",
   "metadata": {},
   "source": [
    "Here I will identify the feature and target column and split the dataset into training and testing"
   ]
  },
  {
   "cell_type": "code",
   "execution_count": 13,
   "metadata": {
    "collapsed": true
   },
   "outputs": [],
   "source": [
    "feature=['glucose_conc','diastolic_bp','thickness','insulin','bmi','age']\n",
    "target='diabetes'\n",
    "x=dataset[feature]\n",
    "y=dataset[target]\n",
    "seed=7\n",
    "x_train,x_test,y_train,y_test=train_test_split(x,y,test_size=0.4,random_state=4)"
   ]
  },
  {
   "cell_type": "markdown",
   "metadata": {},
   "source": [
    "Here I will determine the best model for this problem using the below function."
   ]
  },
  {
   "cell_type": "code",
   "execution_count": 14,
   "metadata": {
    "collapsed": true
   },
   "outputs": [],
   "source": [
    "def algorithms():\n",
    "    models=[]\n",
    "    models.append(('LR', LogisticRegression()))\n",
    "    models.append(('LDA', LinearDiscriminantAnalysis()))\n",
    "    models.append(('KNN', KNeighborsClassifier()))\n",
    "    models.append(('CART', DecisionTreeClassifier()))\n",
    "    models.append(('NB', GaussianNB()))\n",
    "    models.append(('SVM', SVC()))\n",
    "\n",
    "    results=[]\n",
    "    names=[]\n",
    "    scoring='accuracy'\n",
    "    for name, model in models:\n",
    "        kfold=model_selection.KFold(n_splits=10,random_state=seed)\n",
    "        cv_results=model_selection.cross_val_score(model,x,y,cv=kfold,scoring=scoring)\n",
    "        results.append(cv_results)\n",
    "        names.append(name)\n",
    "        msg=\"%s: %f (%f)\" % (name,cv_results.mean(),cv_results.std())\n",
    "        print(msg)\n",
    "\n",
    "    fig=plt.figure()\n",
    "    fig.suptitle('Algorithm Comparison')\n",
    "    ax=fig.add_subplot(111)\n",
    "    plt.boxplot(results)\n",
    "    ax.set_xticklabels(names)\n",
    "    plt.show()\n",
    "    return"
   ]
  },
  {
   "cell_type": "code",
   "execution_count": 15,
   "metadata": {},
   "outputs": [
    {
     "name": "stdout",
     "output_type": "stream",
     "text": [
      "LR: 0.766969 (0.050278)\n",
      "LDA: 0.765636 (0.050625)\n",
      "KNN: 0.717396 (0.066985)\n",
      "CART: 0.694036 (0.049872)\n",
      "NB: 0.749983 (0.033451)\n",
      "SVM: 0.651025 (0.072141)\n"
     ]
    },
    {
     "data": {
      "image/png": "[encoded data removed]",
      "text/plain": [
       "<matplotlib.figure.Figure at 0x70e9ac8>"
      ]
     },
     "metadata": {},
     "output_type": "display_data"
    }
   ],
   "source": [
    "algorithms()"
   ]
  },
  {
   "cell_type": "markdown",
   "metadata": {},
   "source": [
    "Here I will fit the machine learning model."
   ]
  },
  {
   "cell_type": "code",
   "execution_count": 16,
   "metadata": {
    "collapsed": true
   },
   "outputs": [],
   "source": [
    "lr=LogisticRegression()\n",
    "lr.fit(x_train,y_train)\n",
    "lr_prediction=lr.predict(x_test)"
   ]
  },
  {
   "cell_type": "markdown",
   "metadata": {},
   "source": [
    "Now, the prediction process begins."
   ]
  },
  {
   "cell_type": "code",
   "execution_count": 17,
   "metadata": {
    "collapsed": true
   },
   "outputs": [],
   "source": [
    "features=x_test.reset_index()\n",
    "features=features[['glucose_conc','diastolic_bp','thickness','insulin','bmi','age']]\n",
    "actual=(list(y_test))\n",
    "prediction=(list(lr_prediction))\n",
    "features['actual']=pd.Series(actual)\n",
    "features['prediction']=pd.Series(prediction)\n",
    "output=features"
   ]
  },
  {
   "cell_type": "code",
   "execution_count": 18,
   "metadata": {},
   "outputs": [
    {
     "name": "stdout",
     "output_type": "stream",
     "text": [
      "[0, 0, 0, 0, 1, 1, 1, 1, 1, 0, 0, 0, 1, 0, 0, 1, 1, 1, 0, 0, 0, 0, 0, 1, 1, 0, 0, 1, 1, 1, 1, 0, 0, 0, 0, 0, 0, 0, 0, 1, 1, 0, 0, 1, 0, 0, 0, 1, 0, 0, 1, 0, 0, 0, 1, 0, 0, 0, 0, 1, 0, 0, 1, 0, 0, 0, 0, 0, 0, 1, 0, 1, 0, 0, 0, 1, 0, 1, 0, 0, 1, 0, 0, 1, 0, 0, 0, 1, 0, 1, 0, 0, 0, 0, 0, 0, 0, 1, 1, 0, 0, 0, 1, 1, 1, 0, 0, 1, 1, 0, 0, 1, 1, 0, 0, 0, 0, 0, 1, 1, 0, 0, 0, 0, 0, 0, 0, 0, 0, 1, 1, 0, 1, 0, 1, 0, 0, 0, 1, 0, 0, 0, 0, 0, 1, 1, 1, 0, 0, 0, 0, 0, 1, 1, 0, 0, 0, 0, 0, 1, 1, 1, 0, 0, 1, 0, 1, 0, 1, 0, 1, 1, 0, 0, 0, 1, 0, 1, 0, 0, 0, 0, 0, 1, 1, 0, 1, 0, 0, 1, 0, 0, 1, 0, 1, 1, 0, 0, 0, 0, 0, 0, 0, 0, 0, 0, 1, 0, 1, 1, 0, 0, 1, 0, 0, 0, 1, 0, 0, 1, 0, 0, 0, 0, 0, 1, 1, 1, 1, 0, 0, 0, 1, 0, 1, 1, 1, 0, 0, 0, 0, 0, 0, 0, 0, 0, 0, 0, 0, 0, 0, 0, 0, 0, 1, 0, 0, 1, 0, 1, 0, 1, 1, 0, 1, 1, 0, 1, 0, 0, 0, 0, 0, 1, 0, 0, 1, 0, 1, 1, 0, 0, 0, 0, 0, 0, 1, 0, 0, 0, 1, 0, 0, 0, 1, 1, 0, 1, 0, 0, 0, 0, 0, 0, 1, 1, 0, 0]\n"
     ]
    }
   ],
   "source": [
    "print(actual)"
   ]
  },
  {
   "cell_type": "code",
   "execution_count": 19,
   "metadata": {},
   "outputs": [
    {
     "name": "stdout",
     "output_type": "stream",
     "text": [
      "[0, 0, 0, 0, 0, 0, 1, 0, 1, 0, 0, 0, 0, 0, 0, 0, 1, 1, 0, 0, 0, 1, 0, 1, 0, 0, 0, 0, 0, 0, 1, 0, 0, 0, 1, 0, 1, 0, 0, 1, 1, 0, 0, 1, 0, 0, 0, 1, 0, 0, 1, 1, 0, 0, 1, 0, 0, 0, 0, 1, 0, 0, 1, 0, 0, 0, 0, 0, 0, 1, 0, 1, 0, 0, 0, 1, 0, 0, 0, 1, 1, 0, 0, 1, 0, 0, 0, 1, 0, 0, 0, 0, 0, 0, 0, 0, 0, 0, 1, 0, 0, 1, 0, 0, 1, 0, 0, 1, 0, 0, 1, 1, 1, 0, 0, 0, 0, 1, 1, 1, 0, 0, 0, 0, 0, 0, 0, 0, 0, 1, 0, 0, 0, 0, 1, 0, 0, 0, 1, 1, 0, 0, 0, 0, 1, 1, 1, 0, 0, 0, 0, 0, 1, 1, 0, 0, 0, 0, 0, 1, 1, 0, 0, 0, 0, 0, 1, 0, 1, 0, 1, 1, 0, 0, 0, 1, 1, 1, 0, 0, 1, 0, 0, 1, 0, 0, 1, 1, 0, 0, 0, 0, 0, 0, 0, 1, 0, 0, 0, 0, 0, 0, 0, 0, 0, 0, 0, 0, 1, 1, 0, 0, 1, 0, 0, 0, 0, 0, 0, 0, 0, 1, 1, 0, 0, 1, 1, 0, 0, 0, 0, 0, 0, 0, 1, 1, 1, 0, 0, 1, 0, 0, 1, 0, 0, 0, 1, 0, 0, 0, 0, 0, 0, 0, 0, 0, 0, 0, 0, 1, 0, 0, 0, 0, 1, 0, 0, 1, 0, 1, 1, 0, 0, 1, 0, 0, 0, 0, 1, 1, 0, 0, 0, 0, 0, 1, 1, 0, 0, 0, 1, 0, 0, 0, 0, 1, 1, 1, 0, 0, 0, 0, 0, 0, 0, 0, 0, 0]\n"
     ]
    }
   ],
   "source": [
    "print(prediction)"
   ]
  },
  {
   "cell_type": "code",
   "execution_count": 20,
   "metadata": {},
   "outputs": [],
   "source": [
    "final=features[['actual','prediction']]"
   ]
  },
  {
   "cell_type": "code",
   "execution_count": 21,
   "metadata": {},
   "outputs": [
    {
     "name": "stdout",
     "output_type": "stream",
     "text": [
      "     actual  prediction\n",
      "0         0           0\n",
      "1         0           0\n",
      "2         0           0\n",
      "3         0           0\n",
      "4         1           0\n",
      "5         1           0\n",
      "6         1           1\n",
      "7         1           0\n",
      "8         1           1\n",
      "9         0           0\n",
      "10        0           0\n",
      "11        0           0\n",
      "12        1           0\n",
      "13        0           0\n",
      "14        0           0\n",
      "15        1           0\n",
      "16        1           1\n",
      "17        1           1\n",
      "18        0           0\n",
      "19        0           0\n",
      "20        0           0\n",
      "21        0           1\n",
      "22        0           0\n",
      "23        1           1\n",
      "24        1           0\n",
      "25        0           0\n",
      "26        0           0\n",
      "27        1           0\n",
      "28        1           0\n",
      "29        1           0\n",
      "..      ...         ...\n",
      "278       1           1\n",
      "279       1           1\n",
      "280       0           0\n",
      "281       0           0\n",
      "282       0           0\n",
      "283       0           0\n",
      "284       0           0\n",
      "285       0           1\n",
      "286       1           1\n",
      "287       0           0\n",
      "288       0           0\n",
      "289       0           0\n",
      "290       1           1\n",
      "291       0           0\n",
      "292       0           0\n",
      "293       0           0\n",
      "294       1           0\n",
      "295       1           1\n",
      "296       0           1\n",
      "297       1           1\n",
      "298       0           0\n",
      "299       0           0\n",
      "300       0           0\n",
      "301       0           0\n",
      "302       0           0\n",
      "303       0           0\n",
      "304       1           0\n",
      "305       1           0\n",
      "306       0           0\n",
      "307       0           0\n",
      "\n",
      "[308 rows x 2 columns]\n"
     ]
    }
   ],
   "source": [
    "print(final)"
   ]
  },
  {
   "cell_type": "code",
   "execution_count": 23,
   "metadata": {},
   "outputs": [
    {
     "data": {
      "image/png": "[encoded data removed]",
      "text/plain": [
       "<matplotlib.figure.Figure at 0xc96ba58>"
      ]
     },
     "metadata": {},
     "output_type": "display_data"
    }
   ],
   "source": [
    "final.hist()\n",
    "plt.show()"
   ]
  }
 ],
 "metadata": {
  "kernelspec": {
   "display_name": "Python 3",
   "language": "python",
   "name": "python3"
  },
  "language_info": {
   "codemirror_mode": {
    "name": "ipython",
    "version": 3
   },
   "file_extension": ".py",
   "mimetype": "text/x-python",
   "name": "python",
   "nbconvert_exporter": "python",
   "pygments_lexer": "ipython3",
   "version": "3.6.3"
  }
 },
 "nbformat": 4,
 "nbformat_minor": 2
}
