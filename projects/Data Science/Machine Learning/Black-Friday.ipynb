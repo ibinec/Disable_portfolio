{
 "cells": [
  {
   "cell_type": "markdown",
   "metadata": {},
   "source": [
    "# Black Friday Sales Prediction"
   ]
  },
  {
   "cell_type": "markdown",
   "metadata": {},
   "source": [
    "This problem was discovered on the Interet and the dataset is available in the datasets folder on my page. I decided to create purchase buckets for this problem instead of the typical regression approach. These buckets were then converted into numerical values for prediction purposes."
   ]
  },
  {
   "cell_type": "code",
   "execution_count": 1,
   "metadata": {
    "collapsed": true
   },
   "outputs": [],
   "source": [
    "import pandas as pd\n",
    "import numpy as np\n",
    "import matplotlib.pyplot as plt\n",
    "from sklearn.neighbors import KNeighborsClassifier\n",
    "from sklearn.linear_model import LogisticRegression\n",
    "from sklearn.tree import DecisionTreeClassifier\n",
    "from sklearn.discriminant_analysis import LinearDiscriminantAnalysis\n",
    "from sklearn.naive_bayes import GaussianNB\n",
    "from sklearn.model_selection import train_test_split\n",
    "from sklearn import preprocessing\n",
    "from sklearn.metrics import accuracy_score\n",
    "from sklearn.svm import SVC\n",
    "from sklearn import metrics\n",
    "from sklearn import model_selection"
   ]
  },
  {
   "cell_type": "markdown",
   "metadata": {},
   "source": [
    "Here is where the dataset is identified and loaded into a dataframe."
   ]
  },
  {
   "cell_type": "code",
   "execution_count": 2,
   "metadata": {
    "collapsed": true
   },
   "outputs": [],
   "source": [
    "dataset=r'C:\\Users\\claudius.ibine\\Desktop\\black-friday-dataset.csv'\n",
    "dataset=pd.read_csv(dataset,index_col=None)\n",
    "dataset=dataset[['Gender','Age','Occupation','City_Category','Stay_In_Current_City_Years','Marital_Status','Product_Category_1','Product_Category_2','Product_Category_3','Purchase']]"
   ]
  },
  {
   "cell_type": "markdown",
   "metadata": {},
   "source": [
    "Here is where I summarized the dataset."
   ]
  },
  {
   "cell_type": "code",
   "execution_count": 3,
   "metadata": {
    "collapsed": true
   },
   "outputs": [],
   "source": [
    "def aggregate():\n",
    "    print('The number of rows by columns:  {0}'.format(dataset.shape))\n",
    "    print(\"\\n\"+'The first 10 records are:')\n",
    "    print(dataset.head(5))\n",
    "    print(\"\\n\"+'The dataset datatypes are:')\n",
    "    print(dataset.dtypes)"
   ]
  },
  {
   "cell_type": "code",
   "execution_count": 5,
   "metadata": {},
   "outputs": [
    {
     "name": "stdout",
     "output_type": "stream",
     "text": [
      "The number of rows by columns:  (550068, 10)\n",
      "\n",
      "The first 10 records are:\n",
      "  Gender   Age  Occupation City_Category Stay_In_Current_City_Years  \\\n",
      "0      F  0-17          10             A                          2   \n",
      "1      F  0-17          10             A                          2   \n",
      "2      F  0-17          10             A                          2   \n",
      "3      F  0-17          10             A                          2   \n",
      "4      M   55+          16             C                         4+   \n",
      "\n",
      "   Marital_Status  Product_Category_1  Product_Category_2  Product_Category_3  \\\n",
      "0               0                   3                 NaN                 NaN   \n",
      "1               0                   1                 6.0                14.0   \n",
      "2               0                  12                 NaN                 NaN   \n",
      "3               0                  12                14.0                 NaN   \n",
      "4               0                   8                 NaN                 NaN   \n",
      "\n",
      "   Purchase  \n",
      "0      8370  \n",
      "1     15200  \n",
      "2      1422  \n",
      "3      1057  \n",
      "4      7969  \n",
      "\n",
      "The dataset datatypes are:\n",
      "Gender                         object\n",
      "Age                            object\n",
      "Occupation                      int64\n",
      "City_Category                  object\n",
      "Stay_In_Current_City_Years     object\n",
      "Marital_Status                  int64\n",
      "Product_Category_1              int64\n",
      "Product_Category_2            float64\n",
      "Product_Category_3            float64\n",
      "Purchase                        int64\n",
      "dtype: object\n"
     ]
    }
   ],
   "source": [
    "aggregate()"
   ]
  },
  {
   "cell_type": "markdown",
   "metadata": {},
   "source": [
    "Here is where I cleaned the dataset."
   ]
  },
  {
   "cell_type": "code",
   "execution_count": 6,
   "metadata": {
    "collapsed": true
   },
   "outputs": [],
   "source": [
    "def clean():\n",
    "    print(dataset.isnull().sum()) #check nulll values\n",
    "    print(dataset.describe()) #check for low values in min\n",
    "    print(dataset.head(10))"
   ]
  },
  {
   "cell_type": "code",
   "execution_count": 7,
   "metadata": {},
   "outputs": [
    {
     "name": "stdout",
     "output_type": "stream",
     "text": [
      "Gender                             0\n",
      "Age                                0\n",
      "Occupation                         0\n",
      "City_Category                      0\n",
      "Stay_In_Current_City_Years         0\n",
      "Marital_Status                     0\n",
      "Product_Category_1                 0\n",
      "Product_Category_2            173638\n",
      "Product_Category_3            383247\n",
      "Purchase                           0\n",
      "dtype: int64\n",
      "          Occupation  Marital_Status  Product_Category_1  Product_Category_2  \\\n",
      "count  550068.000000   550068.000000       550068.000000       376430.000000   \n",
      "mean        8.076707        0.409653            5.404270            9.842329   \n",
      "std         6.522660        0.491770            3.936211            5.086590   \n",
      "min         0.000000        0.000000            1.000000            2.000000   \n",
      "25%         2.000000        0.000000            1.000000            5.000000   \n",
      "50%         7.000000        0.000000            5.000000            9.000000   \n",
      "75%        14.000000        1.000000            8.000000           15.000000   \n",
      "max        20.000000        1.000000           20.000000           18.000000   \n",
      "\n",
      "       Product_Category_3       Purchase  \n",
      "count       166821.000000  550068.000000  \n",
      "mean            12.668243    9263.968713  \n",
      "std              4.125338    5023.065394  \n",
      "min              3.000000      12.000000  \n",
      "25%              9.000000    5823.000000  \n",
      "50%             14.000000    8047.000000  \n",
      "75%             16.000000   12054.000000  \n",
      "max             18.000000   23961.000000  \n",
      "  Gender    Age  Occupation City_Category Stay_In_Current_City_Years  \\\n",
      "0      F   0-17          10             A                          2   \n",
      "1      F   0-17          10             A                          2   \n",
      "2      F   0-17          10             A                          2   \n",
      "3      F   0-17          10             A                          2   \n",
      "4      M    55+          16             C                         4+   \n",
      "5      M  26-35          15             A                          3   \n",
      "6      M  46-50           7             B                          2   \n",
      "7      M  46-50           7             B                          2   \n",
      "8      M  46-50           7             B                          2   \n",
      "9      M  26-35          20             A                          1   \n",
      "\n",
      "   Marital_Status  Product_Category_1  Product_Category_2  Product_Category_3  \\\n",
      "0               0                   3                 NaN                 NaN   \n",
      "1               0                   1                 6.0                14.0   \n",
      "2               0                  12                 NaN                 NaN   \n",
      "3               0                  12                14.0                 NaN   \n",
      "4               0                   8                 NaN                 NaN   \n",
      "5               0                   1                 2.0                 NaN   \n",
      "6               1                   1                 8.0                17.0   \n",
      "7               1                   1                15.0                 NaN   \n",
      "8               1                   1                16.0                 NaN   \n",
      "9               1                   8                 NaN                 NaN   \n",
      "\n",
      "   Purchase  \n",
      "0      8370  \n",
      "1     15200  \n",
      "2      1422  \n",
      "3      1057  \n",
      "4      7969  \n",
      "5     15227  \n",
      "6     19215  \n",
      "7     15854  \n",
      "8     15686  \n",
      "9      7871  \n"
     ]
    }
   ],
   "source": [
    "clean()"
   ]
  },
  {
   "cell_type": "code",
   "execution_count": 8,
   "metadata": {
    "collapsed": true
   },
   "outputs": [],
   "source": [
    "dataset['Product_Category_2'].fillna(dataset['Product_Category_2'].mode()[0], inplace=True)\n",
    "dataset['Product_Category_3'].fillna(dataset['Product_Category_3'].mode()[0], inplace=True)\n",
    "dataset['Purchase_Bin']=pd.cut(dataset['Purchase'],[0,200,400,600,800,1000,10000,100000,1000000000],labels=['0-200','200-400','400-600','600-800','800-1000','1000-10000','10000-100000','100000-1000000000'])"
   ]
  },
  {
   "cell_type": "code",
   "execution_count": 9,
   "metadata": {},
   "outputs": [
    {
     "name": "stdout",
     "output_type": "stream",
     "text": [
      "   Gender    Age  Occupation City_Category Stay_In_Current_City_Years  \\\n",
      "0       F   0-17          10             A                          2   \n",
      "1       F   0-17          10             A                          2   \n",
      "2       F   0-17          10             A                          2   \n",
      "3       F   0-17          10             A                          2   \n",
      "4       M    55+          16             C                         4+   \n",
      "5       M  26-35          15             A                          3   \n",
      "6       M  46-50           7             B                          2   \n",
      "7       M  46-50           7             B                          2   \n",
      "8       M  46-50           7             B                          2   \n",
      "9       M  26-35          20             A                          1   \n",
      "10      M  26-35          20             A                          1   \n",
      "\n",
      "    Marital_Status  Product_Category_1  Product_Category_2  \\\n",
      "0                0                   3                 8.0   \n",
      "1                0                   1                 6.0   \n",
      "2                0                  12                 8.0   \n",
      "3                0                  12                14.0   \n",
      "4                0                   8                 8.0   \n",
      "5                0                   1                 2.0   \n",
      "6                1                   1                 8.0   \n",
      "7                1                   1                15.0   \n",
      "8                1                   1                16.0   \n",
      "9                1                   8                 8.0   \n",
      "10               1                   5                11.0   \n",
      "\n",
      "    Product_Category_3  Purchase  Purchase_Bin  \n",
      "0                 16.0      8370    1000-10000  \n",
      "1                 14.0     15200  10000-100000  \n",
      "2                 16.0      1422    1000-10000  \n",
      "3                 16.0      1057    1000-10000  \n",
      "4                 16.0      7969    1000-10000  \n",
      "5                 16.0     15227  10000-100000  \n",
      "6                 17.0     19215  10000-100000  \n",
      "7                 16.0     15854  10000-100000  \n",
      "8                 16.0     15686  10000-100000  \n",
      "9                 16.0      7871    1000-10000  \n",
      "10                16.0      5254    1000-10000  \n"
     ]
    }
   ],
   "source": [
    "print(dataset.head(11))"
   ]
  },
  {
   "cell_type": "markdown",
   "metadata": {},
   "source": [
    "Here I will convert the string values to numericals for the machine learning model."
   ]
  },
  {
   "cell_type": "code",
   "execution_count": 10,
   "metadata": {
    "collapsed": true
   },
   "outputs": [],
   "source": [
    "def preprocess_dataset(df):\n",
    "    processed_df=df.copy()\n",
    "    le=preprocessing.LabelEncoder()\n",
    "    processed_df.Gender = le.fit_transform(processed_df.Gender)\n",
    "    processed_df.Age = le.fit_transform(processed_df.Age)\n",
    "    processed_df.City_Category = le.fit_transform(processed_df.City_Category)\n",
    "    processed_df.Stay_In_Current_City_Years = le.fit_transform(processed_df.Stay_In_Current_City_Years)\n",
    "    processed_df.Purchase_Bin = le.fit_transform(processed_df.Purchase_Bin)\n",
    "    return processed_df\n",
    "dataset=preprocess_dataset(dataset)"
   ]
  },
  {
   "cell_type": "code",
   "execution_count": 11,
   "metadata": {},
   "outputs": [
    {
     "name": "stdout",
     "output_type": "stream",
     "text": [
      "    Gender  Age  Occupation  City_Category  Stay_In_Current_City_Years  \\\n",
      "0        0    0          10              0                           2   \n",
      "1        0    0          10              0                           2   \n",
      "2        0    0          10              0                           2   \n",
      "3        0    0          10              0                           2   \n",
      "4        1    6          16              2                           4   \n",
      "5        1    2          15              0                           3   \n",
      "6        1    4           7              1                           2   \n",
      "7        1    4           7              1                           2   \n",
      "8        1    4           7              1                           2   \n",
      "9        1    2          20              0                           1   \n",
      "10       1    2          20              0                           1   \n",
      "\n",
      "    Marital_Status  Product_Category_1  Product_Category_2  \\\n",
      "0                0                   3                 8.0   \n",
      "1                0                   1                 6.0   \n",
      "2                0                  12                 8.0   \n",
      "3                0                  12                14.0   \n",
      "4                0                   8                 8.0   \n",
      "5                0                   1                 2.0   \n",
      "6                1                   1                 8.0   \n",
      "7                1                   1                15.0   \n",
      "8                1                   1                16.0   \n",
      "9                1                   8                 8.0   \n",
      "10               1                   5                11.0   \n",
      "\n",
      "    Product_Category_3  Purchase  Purchase_Bin  \n",
      "0                 16.0      8370             1  \n",
      "1                 14.0     15200             2  \n",
      "2                 16.0      1422             1  \n",
      "3                 16.0      1057             1  \n",
      "4                 16.0      7969             1  \n",
      "5                 16.0     15227             2  \n",
      "6                 17.0     19215             2  \n",
      "7                 16.0     15854             2  \n",
      "8                 16.0     15686             2  \n",
      "9                 16.0      7871             1  \n",
      "10                16.0      5254             1  \n"
     ]
    }
   ],
   "source": [
    "print(dataset.head(11))"
   ]
  },
  {
   "cell_type": "markdown",
   "metadata": {},
   "source": [
    "Here I will identify the feature and target column and split the dataset into training and testing"
   ]
  },
  {
   "cell_type": "code",
   "execution_count": 12,
   "metadata": {
    "collapsed": true
   },
   "outputs": [],
   "source": [
    "feature=['Gender','Age','Occupation','City_Category','Stay_In_Current_City_Years','Marital_Status','Product_Category_1','Product_Category_2','Product_Category_3']\n",
    "target='Purchase_Bin'\n",
    "\n",
    "x=dataset[feature]\n",
    "y=dataset[target]\n",
    "seed=7\n",
    "x_train,x_test,y_train,y_test=train_test_split(x,y,test_size=0.4,random_state=4)"
   ]
  },
  {
   "cell_type": "markdown",
   "metadata": {},
   "source": [
    "Here I will determine the best model for this problem using the below function."
   ]
  },
  {
   "cell_type": "code",
   "execution_count": 13,
   "metadata": {
    "collapsed": true
   },
   "outputs": [],
   "source": [
    "def algorithms():\n",
    "    print('The predicted accuracy scores for the models are as follows:')\n",
    "    lr=LogisticRegression()\n",
    "    lr.fit(x_train,y_train)\n",
    "    lr_prediction=lr.predict(x_test)\n",
    "    print('LR: {0:4f}'.format(metrics.accuracy_score(y_test,lr_prediction)))\n",
    "\n",
    "    lda=LinearDiscriminantAnalysis()\n",
    "    lda.fit(x_train,y_train)\n",
    "    lda_prediction=lda.predict(x_test)\n",
    "    print('LDA: {0:4f}'.format(metrics.accuracy_score(y_test,lda_prediction)))\n",
    "\n",
    "    knn=KNeighborsClassifier()\n",
    "    knn.fit(x_train,y_train)\n",
    "    knn_prediction=knn.predict(x_test)\n",
    "    print('KNN: {0:4f}'.format(metrics.accuracy_score(y_test,knn_prediction)))\n",
    "\n",
    "    cart=DecisionTreeClassifier()\n",
    "    cart.fit(x_train,y_train)\n",
    "    cart_prediction=cart.predict(x_test)\n",
    "    print('CART: {0:4f}'.format(metrics.accuracy_score(y_test,cart_prediction)))\n",
    "\n",
    "    nb=GaussianNB()\n",
    "    nb.fit(x_train,y_train)\n",
    "    nb_prediction=nb.predict(x_test)\n",
    "    print('NB: {0:4f}'.format(metrics.accuracy_score(y_test,nb_prediction)))\n",
    "\n",
    "    svm=SVC()\n",
    "    svm.fit(x_train,y_train)\n",
    "    svm_prediction=svm.predict(x_test)\n",
    "    print('SVM: {0:4f}'.format(metrics.accuracy_score(y_test,svm_prediction)))"
   ]
  },
  {
   "cell_type": "code",
   "execution_count": 14,
   "metadata": {},
   "outputs": [
    {
     "name": "stdout",
     "output_type": "stream",
     "text": [
      "The predicted accuracy scores for the models are as follows:\n",
      "LR: 0.750777\n",
      "LDA: 0.746678\n",
      "KNN: 0.869130\n",
      "CART: 0.861722\n",
      "NB: 0.460005\n"
     ]
    }
   ],
   "source": [
    "algorithms()"
   ]
  },
  {
   "cell_type": "markdown",
   "metadata": {
    "collapsed": true
   },
   "source": [
    "Here I will fit the machine learning model."
   ]
  },
  {
   "cell_type": "code",
   "execution_count": 18,
   "metadata": {},
   "outputs": [],
   "source": [
    "cart=DecisionTreeClassifier()\n",
    "cart.fit(x_train,y_train)\n",
    "cart_prediction=cart.predict(x_test)"
   ]
  },
  {
   "cell_type": "code",
   "execution_count": 19,
   "metadata": {
    "collapsed": true
   },
   "outputs": [],
   "source": [
    "features=x_test.reset_index()\n",
    "features=features[['Gender','Age','Occupation','City_Category','Stay_In_Current_City_Years','Marital_Status','Product_Category_1','Product_Category_2','Product_Category_3']]\n",
    "actual=(list(y_test))\n",
    "prediction=(list(cart_prediction))\n",
    "features['actual']=pd.Series(actual)\n",
    "features['prediction']=pd.Series(prediction)\n",
    "output=features"
   ]
  },
  {
   "cell_type": "code",
   "execution_count": 20,
   "metadata": {},
   "outputs": [
    {
     "name": "stdout",
     "output_type": "stream",
     "text": [
      "    Gender  Age  Occupation  City_Category  Stay_In_Current_City_Years  \\\n",
      "0        1    1           4              0                           2   \n",
      "1        1    1           4              2                           3   \n",
      "2        1    1          20              1                           0   \n",
      "3        1    2           6              1                           2   \n",
      "4        1    1          20              2                           1   \n",
      "5        1    2           6              1                           2   \n",
      "6        1    3          18              2                           2   \n",
      "7        1    3           6              1                           2   \n",
      "8        1    2          17              1                           4   \n",
      "9        1    2           0              2                           4   \n",
      "10       1    6          14              2                           3   \n",
      "\n",
      "    Marital_Status  Product_Category_1  Product_Category_2  \\\n",
      "0                0                   8                14.0   \n",
      "1                0                   1                15.0   \n",
      "2                0                   2                 3.0   \n",
      "3                0                   3                 4.0   \n",
      "4                0                   1                11.0   \n",
      "5                0                   8                16.0   \n",
      "6                1                  11                14.0   \n",
      "7                1                   5                 8.0   \n",
      "8                0                   8                17.0   \n",
      "9                0                   1                 2.0   \n",
      "10               1                   1                16.0   \n",
      "\n",
      "    Product_Category_3  actual  prediction  \n",
      "0                 17.0       1           1  \n",
      "1                 16.0       2           2  \n",
      "2                  4.0       1           1  \n",
      "3                 16.0       1           2  \n",
      "4                 16.0       2           1  \n",
      "5                 16.0       1           1  \n",
      "6                 16.0       1           1  \n",
      "7                 16.0       1           1  \n",
      "8                 16.0       2           1  \n",
      "9                  9.0       2           2  \n",
      "10                16.0       2           2  \n"
     ]
    }
   ],
   "source": [
    "print(output.head(11))"
   ]
  },
  {
   "cell_type": "code",
   "execution_count": 21,
   "metadata": {},
   "outputs": [
    {
     "name": "stdout",
     "output_type": "stream",
     "text": [
      "        actual  prediction\n",
      "0            1           1\n",
      "1            2           2\n",
      "2            1           1\n",
      "3            1           2\n",
      "4            2           1\n",
      "5            1           1\n",
      "6            1           1\n",
      "7            1           1\n",
      "8            2           1\n",
      "9            2           2\n",
      "10           2           2\n",
      "11           2           2\n",
      "12           1           1\n",
      "13           1           1\n",
      "14           1           1\n",
      "15           2           1\n",
      "16           1           1\n",
      "17           1           2\n",
      "18           1           1\n",
      "19           1           1\n",
      "20           1           1\n",
      "21           2           2\n",
      "22           2           2\n",
      "23           1           1\n",
      "24           1           1\n",
      "25           1           1\n",
      "26           1           1\n",
      "27           1           2\n",
      "28           1           1\n",
      "29           2           2\n",
      "...        ...         ...\n",
      "219998       1           1\n",
      "219999       1           1\n",
      "220000       2           1\n",
      "220001       1           1\n",
      "220002       1           1\n",
      "220003       1           1\n",
      "220004       2           2\n",
      "220005       1           1\n",
      "220006       1           1\n",
      "220007       1           1\n",
      "220008       1           1\n",
      "220009       1           1\n",
      "220010       1           1\n",
      "220011       2           2\n",
      "220012       1           1\n",
      "220013       1           2\n",
      "220014       1           1\n",
      "220015       1           1\n",
      "220016       1           1\n",
      "220017       1           1\n",
      "220018       1           1\n",
      "220019       1           1\n",
      "220020       2           2\n",
      "220021       2           2\n",
      "220022       1           1\n",
      "220023       1           1\n",
      "220024       1           1\n",
      "220025       1           1\n",
      "220026       1           1\n",
      "220027       2           1\n",
      "\n",
      "[220028 rows x 2 columns]\n"
     ]
    }
   ],
   "source": [
    "print(output[['actual','prediction']])"
   ]
  },
  {
   "cell_type": "code",
   "execution_count": 22,
   "metadata": {
    "collapsed": true
   },
   "outputs": [],
   "source": [
    "output=output[['actual','prediction']]"
   ]
  },
  {
   "cell_type": "code",
   "execution_count": 23,
   "metadata": {},
   "outputs": [
    {
     "data": {
      "image/png": "[encoded data removed]",
      "text/plain": [
       "<matplotlib.figure.Figure at 0xc17abe0>"
      ]
     },
     "metadata": {},
     "output_type": "display_data"
    }
   ],
   "source": [
    "output.hist()\n",
    "plt.show()"
   ]
  }
 ],
 "metadata": {
  "kernelspec": {
   "display_name": "Python 3",
   "language": "python",
   "name": "python3"
  },
  "language_info": {
   "codemirror_mode": {
    "name": "ipython",
    "version": 3
   },
   "file_extension": ".py",
   "mimetype": "text/x-python",
   "name": "python",
   "nbconvert_exporter": "python",
   "pygments_lexer": "ipython3",
   "version": "3.6.3"
  }
 },
 "nbformat": 4,
 "nbformat_minor": 2
}
