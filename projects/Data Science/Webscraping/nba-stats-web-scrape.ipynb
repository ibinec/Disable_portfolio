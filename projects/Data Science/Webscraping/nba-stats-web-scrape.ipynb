{
 "cells": [
  {
   "cell_type": "markdown",
   "metadata": {},
   "source": [
    "## NBA Stats Webscrape"
   ]
  },
  {
   "cell_type": "code",
   "execution_count": 8,
   "metadata": {
    "collapsed": true
   },
   "outputs": [],
   "source": [
    "from selenium import webdriver\n",
    "from bs4 import BeautifulSoup as bs\n",
    "import pandas as pd\n",
    "import time"
   ]
  },
  {
   "cell_type": "markdown",
   "metadata": {},
   "source": [
    "Here I will define the criteria needed for selenium and browse to the webpage."
   ]
  },
  {
   "cell_type": "code",
   "execution_count": 9,
   "metadata": {
    "collapsed": true
   },
   "outputs": [],
   "source": [
    "chrome_path=r'C:\\Users\\Public\\Documents\\chromedriver.exe'\n",
    "driver=webdriver.Chrome(chrome_path)\n",
    "url='https://stats.nba.com/search/team-game/#?Season=2017-18&TeamID=1610612739&sort=GAME_DATE&dir=1'\n",
    "driver.get(url)\n",
    "time.sleep(5)"
   ]
  },
  {
   "cell_type": "markdown",
   "metadata": {},
   "source": [
    "Here I will select the elements on the webpage to obtain the html table."
   ]
  },
  {
   "cell_type": "code",
   "execution_count": 10,
   "metadata": {},
   "outputs": [],
   "source": [
    "driver.find_element_by_xpath('//*[@id=\"streak-finder\"]/div[2]/section/div/div[2]/div/div[2]/stats-run-it/button').click()\n",
    "driver.find_element_by_xpath('//*[@id=\"custom-filters\"]/div/table/tbody/tr/td[4]/button/i').click()\n",
    "driver.find_element_by_xpath('//*[@id=\"streak-finder\"]/div[2]/section/div/div[2]/div/div[2]/stats-run-it/button').click()\n",
    "time.sleep(5)"
   ]
  },
  {
   "cell_type": "markdown",
   "metadata": {},
   "source": [
    "Here I will select the remaining elements on the webpage and dump the table to a csv file path."
   ]
  },
  {
   "cell_type": "code",
   "execution_count": 11,
   "metadata": {
    "collapsed": true
   },
   "outputs": [],
   "source": [
    "driver.find_element_by_link_text('LOAD MORE RESULTS').click()\n",
    "html=driver.page_source\n",
    "soup=bs(html, 'lxml')\n",
    "table=soup.find_all('table')[0]\n",
    "df=pd.read_html(str(table))[0]\n",
    "file_name=r'C:\\Users\\claudius.ibine\\Desktop\\season-2017-18.csv'\n",
    "df.to_csv(file_name,sep=',')"
   ]
  },
  {
   "cell_type": "markdown",
   "metadata": {},
   "source": [
    "Here I will print the final output."
   ]
  },
  {
   "cell_type": "code",
   "execution_count": 13,
   "metadata": {},
   "outputs": [
    {
     "name": "stdout",
     "output_type": "stream",
     "text": [
      "   TEAM        DATE      MATCHUP W/L  MIN  PTS  FGM  FGA   FG%  3PM ...   \\\n",
      "0   CLE  06/08/2018  CLE vs. GSW   L  242   85   30   87  34.5    8 ...    \n",
      "1   CLE  06/06/2018  CLE vs. GSW   L  240  102   40   92  43.5    9 ...    \n",
      "2   CLE  06/03/2018    CLE @ GSW   L  238  103   37   90  41.1    9 ...    \n",
      "3   CLE  05/31/2018    CLE @ GSW   L  264  114   44   99  44.4   10 ...    \n",
      "4   CLE  05/27/2018    CLE @ BOS   W  240   87   30   66  45.5    9 ...    \n",
      "5   CLE  05/25/2018  CLE vs. BOS   W  240  109   41   87  47.1    9 ...    \n",
      "6   CLE  05/23/2018    CLE @ BOS   L  241   83   31   74  41.9    9 ...    \n",
      "7   CLE  05/21/2018  CLE vs. BOS   W  239  111   41   81  50.6    8 ...    \n",
      "8   CLE  05/19/2018  CLE vs. BOS   W  242  116   37   76  48.7   17 ...    \n",
      "9   CLE  05/15/2018    CLE @ BOS   L  239   94   37   80  46.3   10 ...    \n",
      "10  CLE  05/13/2018    CLE @ BOS   L  241   83   31   86  36.0    4 ...    \n",
      "11  CLE  05/07/2018  CLE vs. TOR   W  239  128   50   84  59.5   12 ...    \n",
      "12  CLE  05/05/2018  CLE vs. TOR   W  240  105   38   79  48.1    9 ...    \n",
      "13  CLE  05/03/2018    CLE @ TOR   W  241  128   50   84  59.5   11 ...    \n",
      "14  CLE  05/01/2018    CLE @ TOR   W  265  113   42  102  41.2   14 ...    \n",
      "15  CLE  04/29/2018  CLE vs. IND   W  239  105   32   74  43.2   10 ...    \n",
      "16  CLE  04/27/2018    CLE @ IND   L  240   87   33   79  41.8   12 ...    \n",
      "17  CLE  04/25/2018  CLE vs. IND   W  240   98   31   75  41.3   10 ...    \n",
      "18  CLE  04/22/2018    CLE @ IND   W  238  104   35   78  44.9   12 ...    \n",
      "19  CLE  04/20/2018    CLE @ IND   L  238   90   34   77  44.2   10 ...    \n",
      "20  CLE  04/18/2018  CLE vs. IND   W  240  100   37   73  50.7   11 ...    \n",
      "\n",
      "     FT%  OREB  DREB  REB  AST  STL  BLK  TOV  PF  +/-  \n",
      "0   68.0    17    27   44   21    5    5   11  22  -23  \n",
      "1   76.5    15    32   47   20    6    4   13  18   -8  \n",
      "2   76.9    16    26   42   25    9    4   10  15  -19  \n",
      "3   72.7    19    34   53   18    5    3   11  18  -10  \n",
      "4   72.0     2    39   41   15    2    4   12  21    8  \n",
      "5   81.8    15    29   44   16    8    9    9  19   10  \n",
      "6   63.2     3    36   39   17    3    7   15  19  -13  \n",
      "7   72.4     9    38   47   15    6    8   18  23    9  \n",
      "8   83.3     8    37   45   23    9    3   14  23   30  \n",
      "9   58.8     8    37   45   18    2    5   15  21  -13  \n",
      "10  85.0     9    31   40   18    4    3    9  12  -25  \n",
      "11  80.0     6    31   37   29    9    5   10  21   35  \n",
      "12  80.0     6    30   36   18    7    4   10  19    2  \n",
      "13  73.9     5    29   34   25    5    3    3  14   18  \n",
      "14  71.4    13    32   45   25    5    5    5  23    1  \n",
      "15  77.5    15    29   44   18    6    4   12  21    4  \n",
      "16  56.3     7    26   33   16    4    2   14  17  -34  \n",
      "17  96.3    10    27   37   16    6    3   14  21    3  \n",
      "18  84.6     8    37   45   17    4    7   11  18    4  \n",
      "19  75.0     9    27   36   17   11    3   16  23   -2  \n",
      "20  68.2     6    24   30   15    8    2   15  19    3  \n",
      "\n",
      "[21 rows x 24 columns]\n"
     ]
    }
   ],
   "source": [
    "print(df.head(21))"
   ]
  }
 ],
 "metadata": {
  "kernelspec": {
   "display_name": "Python 3",
   "language": "python",
   "name": "python3"
  },
  "language_info": {
   "codemirror_mode": {
    "name": "ipython",
    "version": 3
   },
   "file_extension": ".py",
   "mimetype": "text/x-python",
   "name": "python",
   "nbconvert_exporter": "python",
   "pygments_lexer": "ipython3",
   "version": "3.6.3"
  }
 },
 "nbformat": 4,
 "nbformat_minor": 2
}
